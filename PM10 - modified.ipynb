{
 "cells": [
  {
   "cell_type": "code",
   "execution_count": 2,
   "id": "fc09e9f0",
   "metadata": {},
   "outputs": [],
   "source": [
    "import pandas as pd\n",
    "import numpy as np\n",
    "import matplotlib.pyplot as plt\n",
    "import seaborn as sns"
   ]
  },
  {
   "cell_type": "code",
   "execution_count": 3,
   "id": "de99fb32",
   "metadata": {},
   "outputs": [],
   "source": [
    "cpcb=pd.read_excel('modified_cpcb.xlsx',index_col=0)"
   ]
  },
  {
   "cell_type": "code",
   "execution_count": 4,
   "id": "63885935",
   "metadata": {},
   "outputs": [
    {
     "data": {
      "text/html": [
       "<div>\n",
       "<style scoped>\n",
       "    .dataframe tbody tr th:only-of-type {\n",
       "        vertical-align: middle;\n",
       "    }\n",
       "\n",
       "    .dataframe tbody tr th {\n",
       "        vertical-align: top;\n",
       "    }\n",
       "\n",
       "    .dataframe thead th {\n",
       "        text-align: right;\n",
       "    }\n",
       "</style>\n",
       "<table border=\"1\" class=\"dataframe\">\n",
       "  <thead>\n",
       "    <tr style=\"text-align: right;\">\n",
       "      <th></th>\n",
       "      <th>PM10</th>\n",
       "      <th>NO</th>\n",
       "      <th>NO2</th>\n",
       "      <th>NOx</th>\n",
       "      <th>NH3</th>\n",
       "      <th>SO2</th>\n",
       "      <th>CO</th>\n",
       "      <th>Ozone</th>\n",
       "      <th>Benzene</th>\n",
       "      <th>Toluene</th>\n",
       "      <th>MP-Xylene</th>\n",
       "      <th>RH</th>\n",
       "      <th>WS</th>\n",
       "      <th>WD</th>\n",
       "      <th>SR</th>\n",
       "      <th>BP</th>\n",
       "      <th>AT</th>\n",
       "    </tr>\n",
       "    <tr>\n",
       "      <th>Date</th>\n",
       "      <th></th>\n",
       "      <th></th>\n",
       "      <th></th>\n",
       "      <th></th>\n",
       "      <th></th>\n",
       "      <th></th>\n",
       "      <th></th>\n",
       "      <th></th>\n",
       "      <th></th>\n",
       "      <th></th>\n",
       "      <th></th>\n",
       "      <th></th>\n",
       "      <th></th>\n",
       "      <th></th>\n",
       "      <th></th>\n",
       "      <th></th>\n",
       "      <th></th>\n",
       "    </tr>\n",
       "  </thead>\n",
       "  <tbody>\n",
       "    <tr>\n",
       "      <th>21-06-2019 00:00</th>\n",
       "      <td>52.51</td>\n",
       "      <td>3.42</td>\n",
       "      <td>13.85</td>\n",
       "      <td>17.27</td>\n",
       "      <td>7.91</td>\n",
       "      <td>2.16</td>\n",
       "      <td>0.24</td>\n",
       "      <td>14.55</td>\n",
       "      <td>2.76</td>\n",
       "      <td>5.6</td>\n",
       "      <td>0.09</td>\n",
       "      <td>81.23</td>\n",
       "      <td>0.83</td>\n",
       "      <td>86.2</td>\n",
       "      <td>98.37</td>\n",
       "      <td>996.24</td>\n",
       "      <td>None</td>\n",
       "    </tr>\n",
       "    <tr>\n",
       "      <th>22-06-2019 00:00</th>\n",
       "      <td>49.07</td>\n",
       "      <td>3.63</td>\n",
       "      <td>15.81</td>\n",
       "      <td>19.55</td>\n",
       "      <td>7.24</td>\n",
       "      <td>2.16</td>\n",
       "      <td>0.24</td>\n",
       "      <td>10.04</td>\n",
       "      <td>4.04</td>\n",
       "      <td>10.56</td>\n",
       "      <td>0.13</td>\n",
       "      <td>75.55</td>\n",
       "      <td>0.63</td>\n",
       "      <td>169.02</td>\n",
       "      <td>154.07</td>\n",
       "      <td>997.75</td>\n",
       "      <td>None</td>\n",
       "    </tr>\n",
       "    <tr>\n",
       "      <th>23-06-2019 00:00</th>\n",
       "      <td>46.35</td>\n",
       "      <td>3.83</td>\n",
       "      <td>11.59</td>\n",
       "      <td>15.42</td>\n",
       "      <td>8.17</td>\n",
       "      <td>2.31</td>\n",
       "      <td>0.17</td>\n",
       "      <td>4.55</td>\n",
       "      <td>1.69</td>\n",
       "      <td>4.45</td>\n",
       "      <td>0.05</td>\n",
       "      <td>72.46</td>\n",
       "      <td>0.46</td>\n",
       "      <td>206.99</td>\n",
       "      <td>153.92</td>\n",
       "      <td>998.97</td>\n",
       "      <td>None</td>\n",
       "    </tr>\n",
       "    <tr>\n",
       "      <th>24-06-2019 00:00</th>\n",
       "      <td>75.4</td>\n",
       "      <td>4.27</td>\n",
       "      <td>21.96</td>\n",
       "      <td>26.22</td>\n",
       "      <td>8.86</td>\n",
       "      <td>1.84</td>\n",
       "      <td>0.27</td>\n",
       "      <td>10.43</td>\n",
       "      <td>3.77</td>\n",
       "      <td>9.15</td>\n",
       "      <td>0.17</td>\n",
       "      <td>72.96</td>\n",
       "      <td>0.67</td>\n",
       "      <td>202.61</td>\n",
       "      <td>144.84</td>\n",
       "      <td>999.93</td>\n",
       "      <td>None</td>\n",
       "    </tr>\n",
       "    <tr>\n",
       "      <th>25-06-2019 00:00</th>\n",
       "      <td>75.97</td>\n",
       "      <td>5.78</td>\n",
       "      <td>20.46</td>\n",
       "      <td>26.24</td>\n",
       "      <td>10.15</td>\n",
       "      <td>2.03</td>\n",
       "      <td>0.23</td>\n",
       "      <td>12.98</td>\n",
       "      <td>2.43</td>\n",
       "      <td>7.19</td>\n",
       "      <td>0.07</td>\n",
       "      <td>70.21</td>\n",
       "      <td>0.98</td>\n",
       "      <td>210.27</td>\n",
       "      <td>175.71</td>\n",
       "      <td>999.62</td>\n",
       "      <td>None</td>\n",
       "    </tr>\n",
       "    <tr>\n",
       "      <th>...</th>\n",
       "      <td>...</td>\n",
       "      <td>...</td>\n",
       "      <td>...</td>\n",
       "      <td>...</td>\n",
       "      <td>...</td>\n",
       "      <td>...</td>\n",
       "      <td>...</td>\n",
       "      <td>...</td>\n",
       "      <td>...</td>\n",
       "      <td>...</td>\n",
       "      <td>...</td>\n",
       "      <td>...</td>\n",
       "      <td>...</td>\n",
       "      <td>...</td>\n",
       "      <td>...</td>\n",
       "      <td>...</td>\n",
       "      <td>...</td>\n",
       "    </tr>\n",
       "    <tr>\n",
       "      <th>18-06-2023 00:00</th>\n",
       "      <td>52.75</td>\n",
       "      <td>10.57</td>\n",
       "      <td>12.28</td>\n",
       "      <td>20.12</td>\n",
       "      <td>10.52</td>\n",
       "      <td>12.57</td>\n",
       "      <td>0.42</td>\n",
       "      <td>63.74</td>\n",
       "      <td>2.42</td>\n",
       "      <td>2.45</td>\n",
       "      <td>0.24</td>\n",
       "      <td>84.34</td>\n",
       "      <td>1.29</td>\n",
       "      <td>228.58</td>\n",
       "      <td>90.05</td>\n",
       "      <td>997.5</td>\n",
       "      <td>30.59</td>\n",
       "    </tr>\n",
       "    <tr>\n",
       "      <th>19-06-2023 00:00</th>\n",
       "      <td>42.49</td>\n",
       "      <td>10.77</td>\n",
       "      <td>12.29</td>\n",
       "      <td>20.16</td>\n",
       "      <td>10.6</td>\n",
       "      <td>14.55</td>\n",
       "      <td>0.46</td>\n",
       "      <td>56.97</td>\n",
       "      <td>5.1</td>\n",
       "      <td>9.38</td>\n",
       "      <td>0.75</td>\n",
       "      <td>91.1</td>\n",
       "      <td>0.99</td>\n",
       "      <td>232.22</td>\n",
       "      <td>64.74</td>\n",
       "      <td>997.43</td>\n",
       "      <td>28.72</td>\n",
       "    </tr>\n",
       "    <tr>\n",
       "      <th>20-06-2023 00:00</th>\n",
       "      <td>49.5</td>\n",
       "      <td>10.58</td>\n",
       "      <td>12.1</td>\n",
       "      <td>20.06</td>\n",
       "      <td>10.66</td>\n",
       "      <td>12.74</td>\n",
       "      <td>0.4</td>\n",
       "      <td>55.92</td>\n",
       "      <td>4.71</td>\n",
       "      <td>5.64</td>\n",
       "      <td>0.63</td>\n",
       "      <td>81.25</td>\n",
       "      <td>1.55</td>\n",
       "      <td>228.81</td>\n",
       "      <td>174.83</td>\n",
       "      <td>996.76</td>\n",
       "      <td>31.03</td>\n",
       "    </tr>\n",
       "    <tr>\n",
       "      <th>21-06-2023 00:00</th>\n",
       "      <td>46.26</td>\n",
       "      <td>10.5</td>\n",
       "      <td>11.93</td>\n",
       "      <td>19.83</td>\n",
       "      <td>10.95</td>\n",
       "      <td>36.5</td>\n",
       "      <td>0.4</td>\n",
       "      <td>68.26</td>\n",
       "      <td>3.35</td>\n",
       "      <td>4.38</td>\n",
       "      <td>0.34</td>\n",
       "      <td>82.09</td>\n",
       "      <td>1.33</td>\n",
       "      <td>227.33</td>\n",
       "      <td>257.32</td>\n",
       "      <td>997.1</td>\n",
       "      <td>30.89</td>\n",
       "    </tr>\n",
       "    <tr>\n",
       "      <th>22-06-2023 00:00</th>\n",
       "      <td>227.4</td>\n",
       "      <td>268.53</td>\n",
       "      <td>None</td>\n",
       "      <td>None</td>\n",
       "      <td>49.09</td>\n",
       "      <td>3.4</td>\n",
       "      <td>0.38</td>\n",
       "      <td>None</td>\n",
       "      <td>None</td>\n",
       "      <td>None</td>\n",
       "      <td>None</td>\n",
       "      <td>94.3</td>\n",
       "      <td>0.65</td>\n",
       "      <td>219.47</td>\n",
       "      <td>9.5</td>\n",
       "      <td>998.2</td>\n",
       "      <td>28.83</td>\n",
       "    </tr>\n",
       "  </tbody>\n",
       "</table>\n",
       "<p>1463 rows × 17 columns</p>\n",
       "</div>"
      ],
      "text/plain": [
       "                   PM10      NO    NO2    NOx    NH3    SO2    CO  Ozone  \\\n",
       "Date                                                                       \n",
       "21-06-2019 00:00  52.51    3.42  13.85  17.27   7.91   2.16  0.24  14.55   \n",
       "22-06-2019 00:00  49.07    3.63  15.81  19.55   7.24   2.16  0.24  10.04   \n",
       "23-06-2019 00:00  46.35    3.83  11.59  15.42   8.17   2.31  0.17   4.55   \n",
       "24-06-2019 00:00   75.4    4.27  21.96  26.22   8.86   1.84  0.27  10.43   \n",
       "25-06-2019 00:00  75.97    5.78  20.46  26.24  10.15   2.03  0.23  12.98   \n",
       "...                 ...     ...    ...    ...    ...    ...   ...    ...   \n",
       "18-06-2023 00:00  52.75   10.57  12.28  20.12  10.52  12.57  0.42  63.74   \n",
       "19-06-2023 00:00  42.49   10.77  12.29  20.16   10.6  14.55  0.46  56.97   \n",
       "20-06-2023 00:00   49.5   10.58   12.1  20.06  10.66  12.74   0.4  55.92   \n",
       "21-06-2023 00:00  46.26    10.5  11.93  19.83  10.95   36.5   0.4  68.26   \n",
       "22-06-2023 00:00  227.4  268.53   None   None  49.09    3.4  0.38   None   \n",
       "\n",
       "                 Benzene Toluene MP-Xylene     RH    WS      WD      SR  \\\n",
       "Date                                                                      \n",
       "21-06-2019 00:00    2.76     5.6      0.09  81.23  0.83    86.2   98.37   \n",
       "22-06-2019 00:00    4.04   10.56      0.13  75.55  0.63  169.02  154.07   \n",
       "23-06-2019 00:00    1.69    4.45      0.05  72.46  0.46  206.99  153.92   \n",
       "24-06-2019 00:00    3.77    9.15      0.17  72.96  0.67  202.61  144.84   \n",
       "25-06-2019 00:00    2.43    7.19      0.07  70.21  0.98  210.27  175.71   \n",
       "...                  ...     ...       ...    ...   ...     ...     ...   \n",
       "18-06-2023 00:00    2.42    2.45      0.24  84.34  1.29  228.58   90.05   \n",
       "19-06-2023 00:00     5.1    9.38      0.75   91.1  0.99  232.22   64.74   \n",
       "20-06-2023 00:00    4.71    5.64      0.63  81.25  1.55  228.81  174.83   \n",
       "21-06-2023 00:00    3.35    4.38      0.34  82.09  1.33  227.33  257.32   \n",
       "22-06-2023 00:00    None    None      None   94.3  0.65  219.47     9.5   \n",
       "\n",
       "                      BP     AT  \n",
       "Date                             \n",
       "21-06-2019 00:00  996.24   None  \n",
       "22-06-2019 00:00  997.75   None  \n",
       "23-06-2019 00:00  998.97   None  \n",
       "24-06-2019 00:00  999.93   None  \n",
       "25-06-2019 00:00  999.62   None  \n",
       "...                  ...    ...  \n",
       "18-06-2023 00:00   997.5  30.59  \n",
       "19-06-2023 00:00  997.43  28.72  \n",
       "20-06-2023 00:00  996.76  31.03  \n",
       "21-06-2023 00:00   997.1  30.89  \n",
       "22-06-2023 00:00   998.2  28.83  \n",
       "\n",
       "[1463 rows x 17 columns]"
      ]
     },
     "execution_count": 4,
     "metadata": {},
     "output_type": "execute_result"
    }
   ],
   "source": [
    "cpcb"
   ]
  },
  {
   "cell_type": "code",
   "execution_count": 5,
   "id": "9edbf83e",
   "metadata": {},
   "outputs": [
    {
     "name": "stdout",
     "output_type": "stream",
     "text": [
      "PM10         float64\n",
      "NO           float64\n",
      "NO2          float64\n",
      "NOx          float64\n",
      "NH3          float64\n",
      "SO2          float64\n",
      "CO           float64\n",
      "Ozone        float64\n",
      "Benzene      float64\n",
      "Toluene      float64\n",
      "MP-Xylene    float64\n",
      "RH           float64\n",
      "WS           float64\n",
      "WD           float64\n",
      "SR           float64\n",
      "BP           float64\n",
      "AT           float64\n",
      "dtype: object\n"
     ]
    }
   ],
   "source": [
    "# Convert 'column_name' to numeric type, replacing 'None' with NaN\n",
    "#cpcb['column_name'] = pd.to_numeric(cpcb['column_name'], errors='coerce')\n",
    "#The errors='coerce' parameter ensures that any invalid values, such as 'None', are converted to NaN (Not a Number).\n",
    "\n",
    "# Convert all columns to numeric type, replacing 'None' with NaN\n",
    "cpcb = cpcb.apply(pd.to_numeric, errors='coerce')\n",
    "\n",
    "# Check the data types of the columns\n",
    "column_types = cpcb.dtypes\n",
    "print(column_types)"
   ]
  },
  {
   "cell_type": "code",
   "execution_count": 6,
   "id": "469f2bc4",
   "metadata": {
    "scrolled": true
   },
   "outputs": [
    {
     "name": "stdout",
     "output_type": "stream",
     "text": [
      "PM10           57\n",
      "NO             76\n",
      "NO2            80\n",
      "NOx            77\n",
      "NH3            76\n",
      "SO2            56\n",
      "CO             69\n",
      "Ozone          99\n",
      "Benzene        58\n",
      "Toluene        58\n",
      "MP-Xylene      63\n",
      "RH             49\n",
      "WS             49\n",
      "WD             49\n",
      "SR             50\n",
      "BP            684\n",
      "AT           1175\n",
      "dtype: int64\n"
     ]
    }
   ],
   "source": [
    "null_counts = cpcb.isnull().sum()\n",
    "print(null_counts)\n"
   ]
  },
  {
   "cell_type": "code",
   "execution_count": 7,
   "id": "c3906b2e",
   "metadata": {},
   "outputs": [
    {
     "data": {
      "text/plain": [
       "<AxesSubplot: ylabel='Date'>"
      ]
     },
     "execution_count": 7,
     "metadata": {},
     "output_type": "execute_result"
    },
    {
     "data": {
      "image/png": "[encoded data removed]",
      "text/plain": [
       "<Figure size 640x480 with 1 Axes>"
      ]
     },
     "metadata": {},
     "output_type": "display_data"
    }
   ],
   "source": [
    "sns.heatmap(cpcb.isnull(),yticklabels=False,cbar=False,cmap='viridis')"
   ]
  },
  {
   "cell_type": "code",
   "execution_count": 8,
   "id": "b504f183",
   "metadata": {},
   "outputs": [],
   "source": [
    "cpcb.drop(['AT','BP'],inplace=True,axis=1)"
   ]
  },
  {
   "cell_type": "code",
   "execution_count": 9,
   "id": "7e1ee08a",
   "metadata": {},
   "outputs": [
    {
     "data": {
      "text/plain": [
       "<AxesSubplot: ylabel='Date'>"
      ]
     },
     "execution_count": 9,
     "metadata": {},
     "output_type": "execute_result"
    },
    {
     "data": {
      "image/png": "[encoded data removed]",
      "text/plain": [
       "<Figure size 640x480 with 1 Axes>"
      ]
     },
     "metadata": {},
     "output_type": "display_data"
    }
   ],
   "source": [
    "sns.heatmap(cpcb.isnull(),yticklabels=False,cbar=False,cmap='viridis')"
   ]
  },
  {
   "cell_type": "code",
   "execution_count": 10,
   "id": "9e71f95c",
   "metadata": {},
   "outputs": [],
   "source": [
    "cpcb.CO.fillna(value=(cpcb.CO.mean()),inplace=True)\n",
    "cpcb.NO2.fillna(value=(cpcb.NO2.mean()),inplace=True)\n",
    "cpcb.Ozone.fillna(value=(cpcb.Ozone.mean()),inplace=True)\n",
    "cpcb.PM10.fillna(value=(cpcb.PM10.mean()),inplace=True)\n",
    "cpcb.RH.fillna(value=(cpcb.RH.mean()),inplace=True)\n",
    "cpcb.SO2.fillna(value=(cpcb.SO2.mean()),inplace=True)\n",
    "cpcb.Toluene.fillna(value=(cpcb.Toluene.mean()),inplace=True)\n",
    "cpcb.NO.fillna(value=(cpcb.NO.mean()),inplace=True)\n",
    "cpcb.NOx.fillna(value=(cpcb.NOx.mean()),inplace=True)\n",
    "cpcb.NH3.fillna(value=(cpcb.NH3.mean()),inplace=True)\n",
    "cpcb.Benzene.fillna(value=(cpcb.Benzene.mean()),inplace=True)\n",
    "cpcb.SR.fillna(value=(cpcb.SR.mean()),inplace=True)\n",
    "cpcb.WS.fillna(value=(cpcb.WS.mean()),inplace=True)\n",
    "cpcb.WD.fillna(value=(cpcb.WD.mean()),inplace=True)\n",
    "cpcb['MP-Xylene'].fillna(value=cpcb['MP-Xylene'].mean(), inplace=True)\n"
   ]
  },
  {
   "cell_type": "code",
   "execution_count": 11,
   "id": "e1505b1d",
   "metadata": {},
   "outputs": [
    {
     "data": {
      "text/html": [
       "<div>\n",
       "<style scoped>\n",
       "    .dataframe tbody tr th:only-of-type {\n",
       "        vertical-align: middle;\n",
       "    }\n",
       "\n",
       "    .dataframe tbody tr th {\n",
       "        vertical-align: top;\n",
       "    }\n",
       "\n",
       "    .dataframe thead th {\n",
       "        text-align: right;\n",
       "    }\n",
       "</style>\n",
       "<table border=\"1\" class=\"dataframe\">\n",
       "  <thead>\n",
       "    <tr style=\"text-align: right;\">\n",
       "      <th></th>\n",
       "      <th>PM10</th>\n",
       "      <th>NO</th>\n",
       "      <th>NO2</th>\n",
       "      <th>NOx</th>\n",
       "      <th>NH3</th>\n",
       "      <th>SO2</th>\n",
       "      <th>CO</th>\n",
       "      <th>Ozone</th>\n",
       "      <th>Benzene</th>\n",
       "      <th>Toluene</th>\n",
       "      <th>MP-Xylene</th>\n",
       "      <th>RH</th>\n",
       "      <th>WS</th>\n",
       "      <th>WD</th>\n",
       "      <th>SR</th>\n",
       "    </tr>\n",
       "  </thead>\n",
       "  <tbody>\n",
       "    <tr>\n",
       "      <th>count</th>\n",
       "      <td>1463.000000</td>\n",
       "      <td>1463.000000</td>\n",
       "      <td>1463.000000</td>\n",
       "      <td>1463.000000</td>\n",
       "      <td>1463.000000</td>\n",
       "      <td>1463.000000</td>\n",
       "      <td>1463.000000</td>\n",
       "      <td>1463.000000</td>\n",
       "      <td>1463.000000</td>\n",
       "      <td>1463.000000</td>\n",
       "      <td>1463.000000</td>\n",
       "      <td>1463.000000</td>\n",
       "      <td>1463.000000</td>\n",
       "      <td>1463.000000</td>\n",
       "      <td>1463.000000</td>\n",
       "    </tr>\n",
       "    <tr>\n",
       "      <th>mean</th>\n",
       "      <td>135.407681</td>\n",
       "      <td>14.078327</td>\n",
       "      <td>23.284129</td>\n",
       "      <td>35.570483</td>\n",
       "      <td>19.309034</td>\n",
       "      <td>16.063085</td>\n",
       "      <td>0.667905</td>\n",
       "      <td>40.971246</td>\n",
       "      <td>5.804733</td>\n",
       "      <td>10.807210</td>\n",
       "      <td>2.026307</td>\n",
       "      <td>71.942786</td>\n",
       "      <td>0.666089</td>\n",
       "      <td>185.608451</td>\n",
       "      <td>136.533404</td>\n",
       "    </tr>\n",
       "    <tr>\n",
       "      <th>std</th>\n",
       "      <td>90.112602</td>\n",
       "      <td>16.335320</td>\n",
       "      <td>17.009266</td>\n",
       "      <td>27.630003</td>\n",
       "      <td>14.236733</td>\n",
       "      <td>11.290273</td>\n",
       "      <td>0.495274</td>\n",
       "      <td>15.794079</td>\n",
       "      <td>5.163216</td>\n",
       "      <td>7.418274</td>\n",
       "      <td>1.871094</td>\n",
       "      <td>14.037324</td>\n",
       "      <td>0.602050</td>\n",
       "      <td>43.784199</td>\n",
       "      <td>61.991557</td>\n",
       "    </tr>\n",
       "    <tr>\n",
       "      <th>min</th>\n",
       "      <td>4.380000</td>\n",
       "      <td>2.200000</td>\n",
       "      <td>0.020000</td>\n",
       "      <td>0.010000</td>\n",
       "      <td>1.180000</td>\n",
       "      <td>1.010000</td>\n",
       "      <td>0.010000</td>\n",
       "      <td>4.550000</td>\n",
       "      <td>0.000000</td>\n",
       "      <td>0.000000</td>\n",
       "      <td>0.030000</td>\n",
       "      <td>29.980000</td>\n",
       "      <td>0.080000</td>\n",
       "      <td>30.350000</td>\n",
       "      <td>9.500000</td>\n",
       "    </tr>\n",
       "    <tr>\n",
       "      <th>25%</th>\n",
       "      <td>61.435000</td>\n",
       "      <td>8.380000</td>\n",
       "      <td>13.850000</td>\n",
       "      <td>22.715000</td>\n",
       "      <td>13.460000</td>\n",
       "      <td>8.465000</td>\n",
       "      <td>0.350000</td>\n",
       "      <td>29.980000</td>\n",
       "      <td>2.270000</td>\n",
       "      <td>5.210000</td>\n",
       "      <td>0.565000</td>\n",
       "      <td>62.170000</td>\n",
       "      <td>0.250000</td>\n",
       "      <td>165.290000</td>\n",
       "      <td>96.690000</td>\n",
       "    </tr>\n",
       "    <tr>\n",
       "      <th>50%</th>\n",
       "      <td>109.800000</td>\n",
       "      <td>11.040000</td>\n",
       "      <td>18.970000</td>\n",
       "      <td>27.690000</td>\n",
       "      <td>15.650000</td>\n",
       "      <td>13.190000</td>\n",
       "      <td>0.510000</td>\n",
       "      <td>40.580000</td>\n",
       "      <td>4.480000</td>\n",
       "      <td>9.160000</td>\n",
       "      <td>1.640000</td>\n",
       "      <td>72.580000</td>\n",
       "      <td>0.450000</td>\n",
       "      <td>196.670000</td>\n",
       "      <td>129.770000</td>\n",
       "    </tr>\n",
       "    <tr>\n",
       "      <th>75%</th>\n",
       "      <td>200.480000</td>\n",
       "      <td>13.420000</td>\n",
       "      <td>25.170000</td>\n",
       "      <td>35.860000</td>\n",
       "      <td>19.309034</td>\n",
       "      <td>20.005000</td>\n",
       "      <td>0.820000</td>\n",
       "      <td>48.545000</td>\n",
       "      <td>7.695000</td>\n",
       "      <td>14.350000</td>\n",
       "      <td>2.755000</td>\n",
       "      <td>81.970000</td>\n",
       "      <td>0.850000</td>\n",
       "      <td>217.330000</td>\n",
       "      <td>161.570000</td>\n",
       "    </tr>\n",
       "    <tr>\n",
       "      <th>max</th>\n",
       "      <td>546.100000</td>\n",
       "      <td>268.530000</td>\n",
       "      <td>211.330000</td>\n",
       "      <td>290.960000</td>\n",
       "      <td>297.830000</td>\n",
       "      <td>138.180000</td>\n",
       "      <td>3.600000</td>\n",
       "      <td>115.270000</td>\n",
       "      <td>42.090000</td>\n",
       "      <td>38.040000</td>\n",
       "      <td>12.050000</td>\n",
       "      <td>99.630000</td>\n",
       "      <td>4.460000</td>\n",
       "      <td>276.450000</td>\n",
       "      <td>621.410000</td>\n",
       "    </tr>\n",
       "  </tbody>\n",
       "</table>\n",
       "</div>"
      ],
      "text/plain": [
       "              PM10           NO          NO2          NOx          NH3  \\\n",
       "count  1463.000000  1463.000000  1463.000000  1463.000000  1463.000000   \n",
       "mean    135.407681    14.078327    23.284129    35.570483    19.309034   \n",
       "std      90.112602    16.335320    17.009266    27.630003    14.236733   \n",
       "min       4.380000     2.200000     0.020000     0.010000     1.180000   \n",
       "25%      61.435000     8.380000    13.850000    22.715000    13.460000   \n",
       "50%     109.800000    11.040000    18.970000    27.690000    15.650000   \n",
       "75%     200.480000    13.420000    25.170000    35.860000    19.309034   \n",
       "max     546.100000   268.530000   211.330000   290.960000   297.830000   \n",
       "\n",
       "               SO2           CO        Ozone      Benzene      Toluene  \\\n",
       "count  1463.000000  1463.000000  1463.000000  1463.000000  1463.000000   \n",
       "mean     16.063085     0.667905    40.971246     5.804733    10.807210   \n",
       "std      11.290273     0.495274    15.794079     5.163216     7.418274   \n",
       "min       1.010000     0.010000     4.550000     0.000000     0.000000   \n",
       "25%       8.465000     0.350000    29.980000     2.270000     5.210000   \n",
       "50%      13.190000     0.510000    40.580000     4.480000     9.160000   \n",
       "75%      20.005000     0.820000    48.545000     7.695000    14.350000   \n",
       "max     138.180000     3.600000   115.270000    42.090000    38.040000   \n",
       "\n",
       "         MP-Xylene           RH           WS           WD           SR  \n",
       "count  1463.000000  1463.000000  1463.000000  1463.000000  1463.000000  \n",
       "mean      2.026307    71.942786     0.666089   185.608451   136.533404  \n",
       "std       1.871094    14.037324     0.602050    43.784199    61.991557  \n",
       "min       0.030000    29.980000     0.080000    30.350000     9.500000  \n",
       "25%       0.565000    62.170000     0.250000   165.290000    96.690000  \n",
       "50%       1.640000    72.580000     0.450000   196.670000   129.770000  \n",
       "75%       2.755000    81.970000     0.850000   217.330000   161.570000  \n",
       "max      12.050000    99.630000     4.460000   276.450000   621.410000  "
      ]
     },
     "execution_count": 11,
     "metadata": {},
     "output_type": "execute_result"
    }
   ],
   "source": [
    "cpcb.describe()"
   ]
  },
  {
   "cell_type": "code",
   "execution_count": 19,
   "id": "00ae29c9",
   "metadata": {},
   "outputs": [],
   "source": [
    "cpcb.drop(['NO','NOx','NH3','Benzene','Toluene','MP-Xylene'],axis=1,inplace=True)"
   ]
  },
  {
   "cell_type": "code",
   "execution_count": 20,
   "id": "b0df3727",
   "metadata": {},
   "outputs": [],
   "source": [
    "from sklearn.preprocessing import StandardScaler"
   ]
  },
  {
   "cell_type": "code",
   "execution_count": 21,
   "id": "7fb8ad98",
   "metadata": {},
   "outputs": [],
   "source": [
    "scaler=StandardScaler()\n",
    "scaler.fit(cpcb.drop('PM10',axis=1))\n",
    "scaled_data=scaler.transform(cpcb.drop('PM10',axis=1))\n",
    "df_feat=pd.DataFrame(scaled_data,columns=cpcb.columns[1:])"
   ]
  },
  {
   "cell_type": "code",
   "execution_count": 22,
   "id": "c492ee16",
   "metadata": {},
   "outputs": [
    {
     "data": {
      "text/html": [
       "<div>\n",
       "<style scoped>\n",
       "    .dataframe tbody tr th:only-of-type {\n",
       "        vertical-align: middle;\n",
       "    }\n",
       "\n",
       "    .dataframe tbody tr th {\n",
       "        vertical-align: top;\n",
       "    }\n",
       "\n",
       "    .dataframe thead th {\n",
       "        text-align: right;\n",
       "    }\n",
       "</style>\n",
       "<table border=\"1\" class=\"dataframe\">\n",
       "  <thead>\n",
       "    <tr style=\"text-align: right;\">\n",
       "      <th></th>\n",
       "      <th>NO2</th>\n",
       "      <th>SO2</th>\n",
       "      <th>CO</th>\n",
       "      <th>Ozone</th>\n",
       "      <th>RH</th>\n",
       "      <th>WS</th>\n",
       "      <th>WD</th>\n",
       "      <th>SR</th>\n",
       "    </tr>\n",
       "  </thead>\n",
       "  <tbody>\n",
       "    <tr>\n",
       "      <th>0</th>\n",
       "      <td>-5.548361e-01</td>\n",
       "      <td>-1.231843</td>\n",
       "      <td>-0.864273</td>\n",
       "      <td>-1.673430e+00</td>\n",
       "      <td>0.661835</td>\n",
       "      <td>0.272348</td>\n",
       "      <td>-2.271195</td>\n",
       "      <td>-0.615833</td>\n",
       "    </tr>\n",
       "    <tr>\n",
       "      <th>1</th>\n",
       "      <td>-4.395654e-01</td>\n",
       "      <td>-1.231843</td>\n",
       "      <td>-0.864273</td>\n",
       "      <td>-1.959077e+00</td>\n",
       "      <td>0.257061</td>\n",
       "      <td>-0.059964</td>\n",
       "      <td>-0.378998</td>\n",
       "      <td>0.282984</td>\n",
       "    </tr>\n",
       "    <tr>\n",
       "      <th>2</th>\n",
       "      <td>-6.877503e-01</td>\n",
       "      <td>-1.218552</td>\n",
       "      <td>-1.005657</td>\n",
       "      <td>-2.306795e+00</td>\n",
       "      <td>0.036858</td>\n",
       "      <td>-0.342429</td>\n",
       "      <td>0.488506</td>\n",
       "      <td>0.280563</td>\n",
       "    </tr>\n",
       "    <tr>\n",
       "      <th>3</th>\n",
       "      <td>-7.787411e-02</td>\n",
       "      <td>-1.260195</td>\n",
       "      <td>-0.803679</td>\n",
       "      <td>-1.934376e+00</td>\n",
       "      <td>0.072490</td>\n",
       "      <td>0.006498</td>\n",
       "      <td>0.388436</td>\n",
       "      <td>0.134041</td>\n",
       "    </tr>\n",
       "    <tr>\n",
       "      <th>4</th>\n",
       "      <td>-1.660915e-01</td>\n",
       "      <td>-1.243361</td>\n",
       "      <td>-0.884470</td>\n",
       "      <td>-1.772868e+00</td>\n",
       "      <td>-0.123484</td>\n",
       "      <td>0.521582</td>\n",
       "      <td>0.563445</td>\n",
       "      <td>0.632183</td>\n",
       "    </tr>\n",
       "    <tr>\n",
       "      <th>...</th>\n",
       "      <td>...</td>\n",
       "      <td>...</td>\n",
       "      <td>...</td>\n",
       "      <td>...</td>\n",
       "      <td>...</td>\n",
       "      <td>...</td>\n",
       "      <td>...</td>\n",
       "      <td>...</td>\n",
       "    </tr>\n",
       "    <tr>\n",
       "      <th>1458</th>\n",
       "      <td>-6.471703e-01</td>\n",
       "      <td>-0.309495</td>\n",
       "      <td>-0.500713</td>\n",
       "      <td>1.442094e+00</td>\n",
       "      <td>0.883463</td>\n",
       "      <td>1.036665</td>\n",
       "      <td>0.981775</td>\n",
       "      <td>-0.750091</td>\n",
       "    </tr>\n",
       "    <tr>\n",
       "      <th>1459</th>\n",
       "      <td>-6.465822e-01</td>\n",
       "      <td>-0.134062</td>\n",
       "      <td>-0.419922</td>\n",
       "      <td>1.013305e+00</td>\n",
       "      <td>1.365201</td>\n",
       "      <td>0.538197</td>\n",
       "      <td>1.064939</td>\n",
       "      <td>-1.158512</td>\n",
       "    </tr>\n",
       "    <tr>\n",
       "      <th>1460</th>\n",
       "      <td>-6.577564e-01</td>\n",
       "      <td>-0.294432</td>\n",
       "      <td>-0.541109</td>\n",
       "      <td>9.468020e-01</td>\n",
       "      <td>0.663260</td>\n",
       "      <td>1.468671</td>\n",
       "      <td>0.987030</td>\n",
       "      <td>0.617982</td>\n",
       "    </tr>\n",
       "    <tr>\n",
       "      <th>1461</th>\n",
       "      <td>-6.677543e-01</td>\n",
       "      <td>1.810754</td>\n",
       "      <td>-0.541109</td>\n",
       "      <td>1.728375e+00</td>\n",
       "      <td>0.723121</td>\n",
       "      <td>1.103128</td>\n",
       "      <td>0.953216</td>\n",
       "      <td>1.949102</td>\n",
       "    </tr>\n",
       "    <tr>\n",
       "      <th>1462</th>\n",
       "      <td>-2.089407e-16</td>\n",
       "      <td>-1.121976</td>\n",
       "      <td>-0.581504</td>\n",
       "      <td>-4.500330e-15</td>\n",
       "      <td>1.593242</td>\n",
       "      <td>-0.026733</td>\n",
       "      <td>0.773638</td>\n",
       "      <td>-2.049906</td>\n",
       "    </tr>\n",
       "  </tbody>\n",
       "</table>\n",
       "<p>1463 rows × 8 columns</p>\n",
       "</div>"
      ],
      "text/plain": [
       "               NO2       SO2        CO         Ozone        RH        WS  \\\n",
       "0    -5.548361e-01 -1.231843 -0.864273 -1.673430e+00  0.661835  0.272348   \n",
       "1    -4.395654e-01 -1.231843 -0.864273 -1.959077e+00  0.257061 -0.059964   \n",
       "2    -6.877503e-01 -1.218552 -1.005657 -2.306795e+00  0.036858 -0.342429   \n",
       "3    -7.787411e-02 -1.260195 -0.803679 -1.934376e+00  0.072490  0.006498   \n",
       "4    -1.660915e-01 -1.243361 -0.884470 -1.772868e+00 -0.123484  0.521582   \n",
       "...            ...       ...       ...           ...       ...       ...   \n",
       "1458 -6.471703e-01 -0.309495 -0.500713  1.442094e+00  0.883463  1.036665   \n",
       "1459 -6.465822e-01 -0.134062 -0.419922  1.013305e+00  1.365201  0.538197   \n",
       "1460 -6.577564e-01 -0.294432 -0.541109  9.468020e-01  0.663260  1.468671   \n",
       "1461 -6.677543e-01  1.810754 -0.541109  1.728375e+00  0.723121  1.103128   \n",
       "1462 -2.089407e-16 -1.121976 -0.581504 -4.500330e-15  1.593242 -0.026733   \n",
       "\n",
       "            WD        SR  \n",
       "0    -2.271195 -0.615833  \n",
       "1    -0.378998  0.282984  \n",
       "2     0.488506  0.280563  \n",
       "3     0.388436  0.134041  \n",
       "4     0.563445  0.632183  \n",
       "...        ...       ...  \n",
       "1458  0.981775 -0.750091  \n",
       "1459  1.064939 -1.158512  \n",
       "1460  0.987030  0.617982  \n",
       "1461  0.953216  1.949102  \n",
       "1462  0.773638 -2.049906  \n",
       "\n",
       "[1463 rows x 8 columns]"
      ]
     },
     "execution_count": 22,
     "metadata": {},
     "output_type": "execute_result"
    }
   ],
   "source": [
    "df_feat"
   ]
  },
  {
   "cell_type": "code",
   "execution_count": 23,
   "id": "487576e7",
   "metadata": {},
   "outputs": [
    {
     "data": {
      "text/html": [
       "<div>\n",
       "<style scoped>\n",
       "    .dataframe tbody tr th:only-of-type {\n",
       "        vertical-align: middle;\n",
       "    }\n",
       "\n",
       "    .dataframe tbody tr th {\n",
       "        vertical-align: top;\n",
       "    }\n",
       "\n",
       "    .dataframe thead th {\n",
       "        text-align: right;\n",
       "    }\n",
       "</style>\n",
       "<table border=\"1\" class=\"dataframe\">\n",
       "  <thead>\n",
       "    <tr style=\"text-align: right;\">\n",
       "      <th></th>\n",
       "      <th>PM10</th>\n",
       "      <th>NO2</th>\n",
       "      <th>SO2</th>\n",
       "      <th>CO</th>\n",
       "      <th>Ozone</th>\n",
       "      <th>RH</th>\n",
       "      <th>WS</th>\n",
       "      <th>WD</th>\n",
       "      <th>SR</th>\n",
       "    </tr>\n",
       "  </thead>\n",
       "  <tbody>\n",
       "    <tr>\n",
       "      <th>0</th>\n",
       "      <td>0.088847</td>\n",
       "      <td>0.065449</td>\n",
       "      <td>0.008384</td>\n",
       "      <td>0.064067</td>\n",
       "      <td>0.090318</td>\n",
       "      <td>0.735822</td>\n",
       "      <td>0.171233</td>\n",
       "      <td>0.226940</td>\n",
       "      <td>0.145234</td>\n",
       "    </tr>\n",
       "    <tr>\n",
       "      <th>1</th>\n",
       "      <td>0.082496</td>\n",
       "      <td>0.074724</td>\n",
       "      <td>0.008384</td>\n",
       "      <td>0.064067</td>\n",
       "      <td>0.049585</td>\n",
       "      <td>0.654271</td>\n",
       "      <td>0.125571</td>\n",
       "      <td>0.563470</td>\n",
       "      <td>0.236260</td>\n",
       "    </tr>\n",
       "    <tr>\n",
       "      <th>2</th>\n",
       "      <td>0.077475</td>\n",
       "      <td>0.054754</td>\n",
       "      <td>0.009477</td>\n",
       "      <td>0.044568</td>\n",
       "      <td>0.000000</td>\n",
       "      <td>0.609907</td>\n",
       "      <td>0.086758</td>\n",
       "      <td>0.717757</td>\n",
       "      <td>0.236015</td>\n",
       "    </tr>\n",
       "    <tr>\n",
       "      <th>3</th>\n",
       "      <td>0.131101</td>\n",
       "      <td>0.103828</td>\n",
       "      <td>0.006051</td>\n",
       "      <td>0.072423</td>\n",
       "      <td>0.053107</td>\n",
       "      <td>0.617085</td>\n",
       "      <td>0.134703</td>\n",
       "      <td>0.699959</td>\n",
       "      <td>0.221176</td>\n",
       "    </tr>\n",
       "    <tr>\n",
       "      <th>4</th>\n",
       "      <td>0.132153</td>\n",
       "      <td>0.096730</td>\n",
       "      <td>0.007436</td>\n",
       "      <td>0.061281</td>\n",
       "      <td>0.076138</td>\n",
       "      <td>0.577602</td>\n",
       "      <td>0.205479</td>\n",
       "      <td>0.731085</td>\n",
       "      <td>0.271625</td>\n",
       "    </tr>\n",
       "  </tbody>\n",
       "</table>\n",
       "</div>"
      ],
      "text/plain": [
       "       PM10       NO2       SO2        CO     Ozone        RH        WS  \\\n",
       "0  0.088847  0.065449  0.008384  0.064067  0.090318  0.735822  0.171233   \n",
       "1  0.082496  0.074724  0.008384  0.064067  0.049585  0.654271  0.125571   \n",
       "2  0.077475  0.054754  0.009477  0.044568  0.000000  0.609907  0.086758   \n",
       "3  0.131101  0.103828  0.006051  0.072423  0.053107  0.617085  0.134703   \n",
       "4  0.132153  0.096730  0.007436  0.061281  0.076138  0.577602  0.205479   \n",
       "\n",
       "         WD        SR  \n",
       "0  0.226940  0.145234  \n",
       "1  0.563470  0.236260  \n",
       "2  0.717757  0.236015  \n",
       "3  0.699959  0.221176  \n",
       "4  0.731085  0.271625  "
      ]
     },
     "execution_count": 23,
     "metadata": {},
     "output_type": "execute_result"
    }
   ],
   "source": [
    "from sklearn.preprocessing import MinMaxScaler\n",
    "scaler = MinMaxScaler()\n",
    "names = cpcb.columns\n",
    "d = scaler.fit_transform(cpcb)\n",
    "scaled_df = pd.DataFrame(d, columns=names)\n",
    "scaled_df.head()\n"
   ]
  },
  {
   "cell_type": "code",
   "execution_count": 32,
   "id": "cc4ec44b",
   "metadata": {},
   "outputs": [],
   "source": [
    "X= scaled_df.iloc[:,1:9]\n",
    "y= scaled_df.iloc[:,0]"
   ]
  },
  {
   "cell_type": "code",
   "execution_count": 33,
   "id": "ac93eaff",
   "metadata": {},
   "outputs": [
    {
     "data": {
      "text/html": [
       "<div>\n",
       "<style scoped>\n",
       "    .dataframe tbody tr th:only-of-type {\n",
       "        vertical-align: middle;\n",
       "    }\n",
       "\n",
       "    .dataframe tbody tr th {\n",
       "        vertical-align: top;\n",
       "    }\n",
       "\n",
       "    .dataframe thead th {\n",
       "        text-align: right;\n",
       "    }\n",
       "</style>\n",
       "<table border=\"1\" class=\"dataframe\">\n",
       "  <thead>\n",
       "    <tr style=\"text-align: right;\">\n",
       "      <th></th>\n",
       "      <th>NO2</th>\n",
       "      <th>SO2</th>\n",
       "      <th>CO</th>\n",
       "      <th>Ozone</th>\n",
       "      <th>RH</th>\n",
       "      <th>WS</th>\n",
       "      <th>WD</th>\n",
       "      <th>SR</th>\n",
       "    </tr>\n",
       "  </thead>\n",
       "  <tbody>\n",
       "    <tr>\n",
       "      <th>0</th>\n",
       "      <td>0.065449</td>\n",
       "      <td>0.008384</td>\n",
       "      <td>0.064067</td>\n",
       "      <td>0.090318</td>\n",
       "      <td>0.735822</td>\n",
       "      <td>0.171233</td>\n",
       "      <td>0.226940</td>\n",
       "      <td>0.145234</td>\n",
       "    </tr>\n",
       "    <tr>\n",
       "      <th>1</th>\n",
       "      <td>0.074724</td>\n",
       "      <td>0.008384</td>\n",
       "      <td>0.064067</td>\n",
       "      <td>0.049585</td>\n",
       "      <td>0.654271</td>\n",
       "      <td>0.125571</td>\n",
       "      <td>0.563470</td>\n",
       "      <td>0.236260</td>\n",
       "    </tr>\n",
       "    <tr>\n",
       "      <th>2</th>\n",
       "      <td>0.054754</td>\n",
       "      <td>0.009477</td>\n",
       "      <td>0.044568</td>\n",
       "      <td>0.000000</td>\n",
       "      <td>0.609907</td>\n",
       "      <td>0.086758</td>\n",
       "      <td>0.717757</td>\n",
       "      <td>0.236015</td>\n",
       "    </tr>\n",
       "    <tr>\n",
       "      <th>3</th>\n",
       "      <td>0.103828</td>\n",
       "      <td>0.006051</td>\n",
       "      <td>0.072423</td>\n",
       "      <td>0.053107</td>\n",
       "      <td>0.617085</td>\n",
       "      <td>0.134703</td>\n",
       "      <td>0.699959</td>\n",
       "      <td>0.221176</td>\n",
       "    </tr>\n",
       "    <tr>\n",
       "      <th>4</th>\n",
       "      <td>0.096730</td>\n",
       "      <td>0.007436</td>\n",
       "      <td>0.061281</td>\n",
       "      <td>0.076138</td>\n",
       "      <td>0.577602</td>\n",
       "      <td>0.205479</td>\n",
       "      <td>0.731085</td>\n",
       "      <td>0.271625</td>\n",
       "    </tr>\n",
       "    <tr>\n",
       "      <th>...</th>\n",
       "      <td>...</td>\n",
       "      <td>...</td>\n",
       "      <td>...</td>\n",
       "      <td>...</td>\n",
       "      <td>...</td>\n",
       "      <td>...</td>\n",
       "      <td>...</td>\n",
       "      <td>...</td>\n",
       "    </tr>\n",
       "    <tr>\n",
       "      <th>1458</th>\n",
       "      <td>0.058019</td>\n",
       "      <td>0.084275</td>\n",
       "      <td>0.114206</td>\n",
       "      <td>0.534592</td>\n",
       "      <td>0.780474</td>\n",
       "      <td>0.276256</td>\n",
       "      <td>0.805486</td>\n",
       "      <td>0.131637</td>\n",
       "    </tr>\n",
       "    <tr>\n",
       "      <th>1459</th>\n",
       "      <td>0.058066</td>\n",
       "      <td>0.098710</td>\n",
       "      <td>0.125348</td>\n",
       "      <td>0.473447</td>\n",
       "      <td>0.877531</td>\n",
       "      <td>0.207763</td>\n",
       "      <td>0.820276</td>\n",
       "      <td>0.090275</td>\n",
       "    </tr>\n",
       "    <tr>\n",
       "      <th>1460</th>\n",
       "      <td>0.057167</td>\n",
       "      <td>0.085514</td>\n",
       "      <td>0.108635</td>\n",
       "      <td>0.463963</td>\n",
       "      <td>0.736109</td>\n",
       "      <td>0.335616</td>\n",
       "      <td>0.806420</td>\n",
       "      <td>0.270187</td>\n",
       "    </tr>\n",
       "    <tr>\n",
       "      <th>1461</th>\n",
       "      <td>0.056363</td>\n",
       "      <td>0.258730</td>\n",
       "      <td>0.108635</td>\n",
       "      <td>0.575415</td>\n",
       "      <td>0.748169</td>\n",
       "      <td>0.285388</td>\n",
       "      <td>0.800406</td>\n",
       "      <td>0.404994</td>\n",
       "    </tr>\n",
       "    <tr>\n",
       "      <th>1462</th>\n",
       "      <td>0.110095</td>\n",
       "      <td>0.017424</td>\n",
       "      <td>0.103064</td>\n",
       "      <td>0.328949</td>\n",
       "      <td>0.923475</td>\n",
       "      <td>0.130137</td>\n",
       "      <td>0.768468</td>\n",
       "      <td>0.000000</td>\n",
       "    </tr>\n",
       "  </tbody>\n",
       "</table>\n",
       "<p>1463 rows × 8 columns</p>\n",
       "</div>"
      ],
      "text/plain": [
       "           NO2       SO2        CO     Ozone        RH        WS        WD  \\\n",
       "0     0.065449  0.008384  0.064067  0.090318  0.735822  0.171233  0.226940   \n",
       "1     0.074724  0.008384  0.064067  0.049585  0.654271  0.125571  0.563470   \n",
       "2     0.054754  0.009477  0.044568  0.000000  0.609907  0.086758  0.717757   \n",
       "3     0.103828  0.006051  0.072423  0.053107  0.617085  0.134703  0.699959   \n",
       "4     0.096730  0.007436  0.061281  0.076138  0.577602  0.205479  0.731085   \n",
       "...        ...       ...       ...       ...       ...       ...       ...   \n",
       "1458  0.058019  0.084275  0.114206  0.534592  0.780474  0.276256  0.805486   \n",
       "1459  0.058066  0.098710  0.125348  0.473447  0.877531  0.207763  0.820276   \n",
       "1460  0.057167  0.085514  0.108635  0.463963  0.736109  0.335616  0.806420   \n",
       "1461  0.056363  0.258730  0.108635  0.575415  0.748169  0.285388  0.800406   \n",
       "1462  0.110095  0.017424  0.103064  0.328949  0.923475  0.130137  0.768468   \n",
       "\n",
       "            SR  \n",
       "0     0.145234  \n",
       "1     0.236260  \n",
       "2     0.236015  \n",
       "3     0.221176  \n",
       "4     0.271625  \n",
       "...        ...  \n",
       "1458  0.131637  \n",
       "1459  0.090275  \n",
       "1460  0.270187  \n",
       "1461  0.404994  \n",
       "1462  0.000000  \n",
       "\n",
       "[1463 rows x 8 columns]"
      ]
     },
     "execution_count": 33,
     "metadata": {},
     "output_type": "execute_result"
    }
   ],
   "source": [
    "X"
   ]
  },
  {
   "cell_type": "code",
   "execution_count": 34,
   "id": "084857c8",
   "metadata": {},
   "outputs": [
    {
     "data": {
      "text/plain": [
       "0       0.088847\n",
       "1       0.082496\n",
       "2       0.077475\n",
       "3       0.131101\n",
       "4       0.132153\n",
       "          ...   \n",
       "1458    0.089290\n",
       "1459    0.070350\n",
       "1460    0.083290\n",
       "1461    0.077309\n",
       "1462    0.411689\n",
       "Name: PM10, Length: 1463, dtype: float64"
      ]
     },
     "execution_count": 34,
     "metadata": {},
     "output_type": "execute_result"
    }
   ],
   "source": [
    "y\n"
   ]
  },
  {
   "cell_type": "code",
   "execution_count": 35,
   "id": "5441c42d",
   "metadata": {},
   "outputs": [],
   "source": [
    "from sklearn.model_selection import train_test_split"
   ]
  },
  {
   "cell_type": "code",
   "execution_count": 36,
   "id": "ca413fa1",
   "metadata": {},
   "outputs": [],
   "source": [
    "X_train, X_test, y_train, y_test = train_test_split(X, y, test_size=0.2, random_state=42)"
   ]
  },
  {
   "cell_type": "code",
   "execution_count": 37,
   "id": "d019e4a2",
   "metadata": {},
   "outputs": [],
   "source": [
    "from sklearn.linear_model import LinearRegression"
   ]
  },
  {
   "cell_type": "code",
   "execution_count": 38,
   "id": "0c5fd0d8",
   "metadata": {},
   "outputs": [],
   "source": [
    "lr=LinearRegression()"
   ]
  },
  {
   "cell_type": "code",
   "execution_count": 39,
   "id": "6d04bc99",
   "metadata": {},
   "outputs": [
    {
     "data": {
      "text/html": [
       "<style>#sk-container-id-1 {color: black;background-color: white;}#sk-container-id-1 pre{padding: 0;}#sk-container-id-1 div.sk-toggleable {background-color: white;}#sk-container-id-1 label.sk-toggleable__label {cursor: pointer;display: block;width: 100%;margin-bottom: 0;padding: 0.3em;box-sizing: border-box;text-align: center;}#sk-container-id-1 label.sk-toggleable__label-arrow:before {content: \"▸\";float: left;margin-right: 0.25em;color: #696969;}#sk-container-id-1 label.sk-toggleable__label-arrow:hover:before {color: black;}#sk-container-id-1 div.sk-estimator:hover label.sk-toggleable__label-arrow:before {color: black;}#sk-container-id-1 div.sk-toggleable__content {max-height: 0;max-width: 0;overflow: hidden;text-align: left;background-color: #f0f8ff;}#sk-container-id-1 div.sk-toggleable__content pre {margin: 0.2em;color: black;border-radius: 0.25em;background-color: #f0f8ff;}#sk-container-id-1 input.sk-toggleable__control:checked~div.sk-toggleable__content {max-height: 200px;max-width: 100%;overflow: auto;}#sk-container-id-1 input.sk-toggleable__control:checked~label.sk-toggleable__label-arrow:before {content: \"▾\";}#sk-container-id-1 div.sk-estimator input.sk-toggleable__control:checked~label.sk-toggleable__label {background-color: #d4ebff;}#sk-container-id-1 div.sk-label input.sk-toggleable__control:checked~label.sk-toggleable__label {background-color: #d4ebff;}#sk-container-id-1 input.sk-hidden--visually {border: 0;clip: rect(1px 1px 1px 1px);clip: rect(1px, 1px, 1px, 1px);height: 1px;margin: -1px;overflow: hidden;padding: 0;position: absolute;width: 1px;}#sk-container-id-1 div.sk-estimator {font-family: monospace;background-color: #f0f8ff;border: 1px dotted black;border-radius: 0.25em;box-sizing: border-box;margin-bottom: 0.5em;}#sk-container-id-1 div.sk-estimator:hover {background-color: #d4ebff;}#sk-container-id-1 div.sk-parallel-item::after {content: \"\";width: 100%;border-bottom: 1px solid gray;flex-grow: 1;}#sk-container-id-1 div.sk-label:hover label.sk-toggleable__label {background-color: #d4ebff;}#sk-container-id-1 div.sk-serial::before {content: \"\";position: absolute;border-left: 1px solid gray;box-sizing: border-box;top: 0;bottom: 0;left: 50%;z-index: 0;}#sk-container-id-1 div.sk-serial {display: flex;flex-direction: column;align-items: center;background-color: white;padding-right: 0.2em;padding-left: 0.2em;position: relative;}#sk-container-id-1 div.sk-item {position: relative;z-index: 1;}#sk-container-id-1 div.sk-parallel {display: flex;align-items: stretch;justify-content: center;background-color: white;position: relative;}#sk-container-id-1 div.sk-item::before, #sk-container-id-1 div.sk-parallel-item::before {content: \"\";position: absolute;border-left: 1px solid gray;box-sizing: border-box;top: 0;bottom: 0;left: 50%;z-index: -1;}#sk-container-id-1 div.sk-parallel-item {display: flex;flex-direction: column;z-index: 1;position: relative;background-color: white;}#sk-container-id-1 div.sk-parallel-item:first-child::after {align-self: flex-end;width: 50%;}#sk-container-id-1 div.sk-parallel-item:last-child::after {align-self: flex-start;width: 50%;}#sk-container-id-1 div.sk-parallel-item:only-child::after {width: 0;}#sk-container-id-1 div.sk-dashed-wrapped {border: 1px dashed gray;margin: 0 0.4em 0.5em 0.4em;box-sizing: border-box;padding-bottom: 0.4em;background-color: white;}#sk-container-id-1 div.sk-label label {font-family: monospace;font-weight: bold;display: inline-block;line-height: 1.2em;}#sk-container-id-1 div.sk-label-container {text-align: center;}#sk-container-id-1 div.sk-container {/* jupyter's `normalize.less` sets `[hidden] { display: none; }` but bootstrap.min.css set `[hidden] { display: none !important; }` so we also need the `!important` here to be able to override the default hidden behavior on the sphinx rendered scikit-learn.org. See: https://github.com/scikit-learn/scikit-learn/issues/21755 */display: inline-block !important;position: relative;}#sk-container-id-1 div.sk-text-repr-fallback {display: none;}</style><div id=\"sk-container-id-1\" class=\"sk-top-container\"><div class=\"sk-text-repr-fallback\"><pre>LinearRegression()</pre><b>In a Jupyter environment, please rerun this cell to show the HTML representation or trust the notebook. <br />On GitHub, the HTML representation is unable to render, please try loading this page with nbviewer.org.</b></div><div class=\"sk-container\" hidden><div class=\"sk-item\"><div class=\"sk-estimator sk-toggleable\"><input class=\"sk-toggleable__control sk-hidden--visually\" id=\"sk-estimator-id-1\" type=\"checkbox\" checked><label for=\"sk-estimator-id-1\" class=\"sk-toggleable__label sk-toggleable__label-arrow\">LinearRegression</label><div class=\"sk-toggleable__content\"><pre>LinearRegression()</pre></div></div></div></div></div>"
      ],
      "text/plain": [
       "LinearRegression()"
      ]
     },
     "execution_count": 39,
     "metadata": {},
     "output_type": "execute_result"
    }
   ],
   "source": [
    "lr.fit(X_train,y_train)"
   ]
  },
  {
   "cell_type": "code",
   "execution_count": 40,
   "id": "14d77677",
   "metadata": {},
   "outputs": [],
   "source": [
    "predictions=lr.predict(X_test)"
   ]
  },
  {
   "cell_type": "code",
   "execution_count": 41,
   "id": "80eade33",
   "metadata": {},
   "outputs": [
    {
     "name": "stdout",
     "output_type": "stream",
     "text": [
      "Root Mean Squared Error: 0.08907645665572643\n"
     ]
    }
   ],
   "source": [
    "from sklearn.metrics import mean_squared_error\n",
    "\n",
    "rmse = mean_squared_error(y_test, predictions, squared=False)\n",
    "print(\"Root Mean Squared Error:\", rmse)"
   ]
  },
  {
   "cell_type": "code",
   "execution_count": 42,
   "id": "f10a322f",
   "metadata": {},
   "outputs": [
    {
     "data": {
      "text/plain": [
       "0.7411829860367587"
      ]
     },
     "execution_count": 42,
     "metadata": {},
     "output_type": "execute_result"
    }
   ],
   "source": [
    "lr.score(X_test,y_test)"
   ]
  },
  {
   "cell_type": "code",
   "execution_count": 43,
   "id": "0275888c",
   "metadata": {},
   "outputs": [],
   "source": [
    "from sklearn.svm import SVR"
   ]
  },
  {
   "cell_type": "code",
   "execution_count": 44,
   "id": "d4c296a0",
   "metadata": {},
   "outputs": [],
   "source": [
    "svr = SVR(kernel='rbf', C=1.0, epsilon=0.1)"
   ]
  },
  {
   "cell_type": "code",
   "execution_count": 45,
   "id": "4ff3ec96",
   "metadata": {},
   "outputs": [],
   "source": [
    "svr.fit(X_train,y_train)\n",
    "# Predict on the test set\n",
    "y_pred = svr.predict(X_test)\n"
   ]
  },
  {
   "cell_type": "code",
   "execution_count": 46,
   "id": "123fa95d",
   "metadata": {},
   "outputs": [
    {
     "name": "stdout",
     "output_type": "stream",
     "text": [
      "Mean Squared Error: 0.0057753646299639\n",
      "Root Mean Squared Error: 0.07599581981901307\n",
      "R-squared: 0.8116149802451453\n"
     ]
    }
   ],
   "source": [
    "from sklearn.metrics import mean_squared_error, r2_score\n",
    "\n",
    "# Calculate mean squared error\n",
    "mse = mean_squared_error(y_test, y_pred)\n",
    "\n",
    "# Calculate root mean squared error\n",
    "rmse = np.sqrt(mse)\n",
    "\n",
    "# Calculate R-squared\n",
    "r2 = r2_score(y_test, y_pred)\n",
    "\n",
    "print(\"Mean Squared Error:\", mse)\n",
    "print(\"Root Mean Squared Error:\", rmse)\n",
    "print(\"R-squared:\", r2)\n"
   ]
  },
  {
   "cell_type": "code",
   "execution_count": 47,
   "id": "efbc1577",
   "metadata": {},
   "outputs": [],
   "source": [
    "from sklearn.model_selection import GridSearchCV\n",
    "\n",
    "# Define a parameter grid to search\n",
    "param_grid = {\n",
    "    'kernel': ['linear', 'rbf'],\n",
    "    'C': [0.1, 1.0, 10],\n",
    "    'epsilon': [0.01, 0.1, 1.0]\n",
    "}\n",
    "\n",
    "# Perform grid search\n",
    "grid_search = GridSearchCV(SVR(), param_grid, cv=5)\n",
    "grid_search.fit(X_train, y_train)\n",
    "\n",
    "# Get the best hyperparameters\n",
    "best_svr = grid_search.best_estimator_\n"
   ]
  },
  {
   "cell_type": "code",
   "execution_count": 48,
   "id": "582330d4",
   "metadata": {},
   "outputs": [
    {
     "data": {
      "text/html": [
       "<style>#sk-container-id-2 {color: black;background-color: white;}#sk-container-id-2 pre{padding: 0;}#sk-container-id-2 div.sk-toggleable {background-color: white;}#sk-container-id-2 label.sk-toggleable__label {cursor: pointer;display: block;width: 100%;margin-bottom: 0;padding: 0.3em;box-sizing: border-box;text-align: center;}#sk-container-id-2 label.sk-toggleable__label-arrow:before {content: \"▸\";float: left;margin-right: 0.25em;color: #696969;}#sk-container-id-2 label.sk-toggleable__label-arrow:hover:before {color: black;}#sk-container-id-2 div.sk-estimator:hover label.sk-toggleable__label-arrow:before {color: black;}#sk-container-id-2 div.sk-toggleable__content {max-height: 0;max-width: 0;overflow: hidden;text-align: left;background-color: #f0f8ff;}#sk-container-id-2 div.sk-toggleable__content pre {margin: 0.2em;color: black;border-radius: 0.25em;background-color: #f0f8ff;}#sk-container-id-2 input.sk-toggleable__control:checked~div.sk-toggleable__content {max-height: 200px;max-width: 100%;overflow: auto;}#sk-container-id-2 input.sk-toggleable__control:checked~label.sk-toggleable__label-arrow:before {content: \"▾\";}#sk-container-id-2 div.sk-estimator input.sk-toggleable__control:checked~label.sk-toggleable__label {background-color: #d4ebff;}#sk-container-id-2 div.sk-label input.sk-toggleable__control:checked~label.sk-toggleable__label {background-color: #d4ebff;}#sk-container-id-2 input.sk-hidden--visually {border: 0;clip: rect(1px 1px 1px 1px);clip: rect(1px, 1px, 1px, 1px);height: 1px;margin: -1px;overflow: hidden;padding: 0;position: absolute;width: 1px;}#sk-container-id-2 div.sk-estimator {font-family: monospace;background-color: #f0f8ff;border: 1px dotted black;border-radius: 0.25em;box-sizing: border-box;margin-bottom: 0.5em;}#sk-container-id-2 div.sk-estimator:hover {background-color: #d4ebff;}#sk-container-id-2 div.sk-parallel-item::after {content: \"\";width: 100%;border-bottom: 1px solid gray;flex-grow: 1;}#sk-container-id-2 div.sk-label:hover label.sk-toggleable__label {background-color: #d4ebff;}#sk-container-id-2 div.sk-serial::before {content: \"\";position: absolute;border-left: 1px solid gray;box-sizing: border-box;top: 0;bottom: 0;left: 50%;z-index: 0;}#sk-container-id-2 div.sk-serial {display: flex;flex-direction: column;align-items: center;background-color: white;padding-right: 0.2em;padding-left: 0.2em;position: relative;}#sk-container-id-2 div.sk-item {position: relative;z-index: 1;}#sk-container-id-2 div.sk-parallel {display: flex;align-items: stretch;justify-content: center;background-color: white;position: relative;}#sk-container-id-2 div.sk-item::before, #sk-container-id-2 div.sk-parallel-item::before {content: \"\";position: absolute;border-left: 1px solid gray;box-sizing: border-box;top: 0;bottom: 0;left: 50%;z-index: -1;}#sk-container-id-2 div.sk-parallel-item {display: flex;flex-direction: column;z-index: 1;position: relative;background-color: white;}#sk-container-id-2 div.sk-parallel-item:first-child::after {align-self: flex-end;width: 50%;}#sk-container-id-2 div.sk-parallel-item:last-child::after {align-self: flex-start;width: 50%;}#sk-container-id-2 div.sk-parallel-item:only-child::after {width: 0;}#sk-container-id-2 div.sk-dashed-wrapped {border: 1px dashed gray;margin: 0 0.4em 0.5em 0.4em;box-sizing: border-box;padding-bottom: 0.4em;background-color: white;}#sk-container-id-2 div.sk-label label {font-family: monospace;font-weight: bold;display: inline-block;line-height: 1.2em;}#sk-container-id-2 div.sk-label-container {text-align: center;}#sk-container-id-2 div.sk-container {/* jupyter's `normalize.less` sets `[hidden] { display: none; }` but bootstrap.min.css set `[hidden] { display: none !important; }` so we also need the `!important` here to be able to override the default hidden behavior on the sphinx rendered scikit-learn.org. See: https://github.com/scikit-learn/scikit-learn/issues/21755 */display: inline-block !important;position: relative;}#sk-container-id-2 div.sk-text-repr-fallback {display: none;}</style><div id=\"sk-container-id-2\" class=\"sk-top-container\"><div class=\"sk-text-repr-fallback\"><pre>SVR(C=10, epsilon=0.01)</pre><b>In a Jupyter environment, please rerun this cell to show the HTML representation or trust the notebook. <br />On GitHub, the HTML representation is unable to render, please try loading this page with nbviewer.org.</b></div><div class=\"sk-container\" hidden><div class=\"sk-item\"><div class=\"sk-estimator sk-toggleable\"><input class=\"sk-toggleable__control sk-hidden--visually\" id=\"sk-estimator-id-2\" type=\"checkbox\" checked><label for=\"sk-estimator-id-2\" class=\"sk-toggleable__label sk-toggleable__label-arrow\">SVR</label><div class=\"sk-toggleable__content\"><pre>SVR(C=10, epsilon=0.01)</pre></div></div></div></div></div>"
      ],
      "text/plain": [
       "SVR(C=10, epsilon=0.01)"
      ]
     },
     "execution_count": 48,
     "metadata": {},
     "output_type": "execute_result"
    }
   ],
   "source": [
    "best_svr\n"
   ]
  },
  {
   "cell_type": "code",
   "execution_count": 49,
   "id": "bf31e8e1",
   "metadata": {},
   "outputs": [],
   "source": [
    "svr = SVR(kernel='rbf', C=10, epsilon=0.01)"
   ]
  },
  {
   "cell_type": "code",
   "execution_count": 50,
   "id": "968d55a7",
   "metadata": {},
   "outputs": [
    {
     "name": "stdout",
     "output_type": "stream",
     "text": [
      "Mean Squared Error: 0.005505684213388499\n",
      "Root Mean Squared Error: 0.07420029793328663\n",
      "R-squared: 0.8204116110830448\n"
     ]
    }
   ],
   "source": [
    "svr.fit(X_train,y_train)\n",
    "# Predict on the test set\n",
    "y_pred = svr.predict(X_test)\n",
    "from sklearn.metrics import mean_squared_error, r2_score\n",
    "\n",
    "# Calculate mean squared error\n",
    "mse = mean_squared_error(y_test, y_pred)\n",
    "\n",
    "# Calculate root mean squared error\n",
    "rmse = np.sqrt(mse)\n",
    "\n",
    "# Calculate R-squared\n",
    "r2 = r2_score(y_test, y_pred)\n",
    "\n",
    "print(\"Mean Squared Error:\", mse)\n",
    "print(\"Root Mean Squared Error:\", rmse)\n",
    "print(\"R-squared:\", r2)"
   ]
  },
  {
   "cell_type": "code",
   "execution_count": 51,
   "id": "0a3dc32c",
   "metadata": {},
   "outputs": [
    {
     "data": {
      "text/plain": [
       "0.8204116110830448"
      ]
     },
     "execution_count": 51,
     "metadata": {},
     "output_type": "execute_result"
    }
   ],
   "source": [
    "svr.score(X_test,y_test)"
   ]
  },
  {
   "cell_type": "code",
   "execution_count": 52,
   "id": "5c176132",
   "metadata": {},
   "outputs": [],
   "source": [
    "from sklearn.ensemble import RandomForestRegressor"
   ]
  },
  {
   "cell_type": "code",
   "execution_count": 53,
   "id": "4f7db014",
   "metadata": {},
   "outputs": [
    {
     "name": "stdout",
     "output_type": "stream",
     "text": [
      "Mean Squared Error: 0.004407096067607913\n"
     ]
    }
   ],
   "source": [
    "rf_regressor = RandomForestRegressor(n_estimators=100, random_state=42)\n",
    "\n",
    "rf_regressor.fit(X_train, y_train)\n",
    "\n",
    "y_pred = rf_regressor.predict(X_test)\n",
    "\n",
    "mse = mean_squared_error(y_test, y_pred)\n",
    "print(\"Mean Squared Error:\", mse)"
   ]
  },
  {
   "cell_type": "code",
   "execution_count": 54,
   "id": "21cd15ab",
   "metadata": {},
   "outputs": [
    {
     "data": {
      "text/plain": [
       "0.856246153628044"
      ]
     },
     "execution_count": 54,
     "metadata": {},
     "output_type": "execute_result"
    }
   ],
   "source": [
    "rf_regressor.score(X_test,y_test)"
   ]
  },
  {
   "cell_type": "code",
   "execution_count": 55,
   "id": "3d456d33",
   "metadata": {},
   "outputs": [
    {
     "name": "stdout",
     "output_type": "stream",
     "text": [
      "Fitting 5 folds for each of 10 candidates, totalling 50 fits\n"
     ]
    },
    {
     "data": {
      "text/html": [
       "<style>#sk-container-id-3 {color: black;background-color: white;}#sk-container-id-3 pre{padding: 0;}#sk-container-id-3 div.sk-toggleable {background-color: white;}#sk-container-id-3 label.sk-toggleable__label {cursor: pointer;display: block;width: 100%;margin-bottom: 0;padding: 0.3em;box-sizing: border-box;text-align: center;}#sk-container-id-3 label.sk-toggleable__label-arrow:before {content: \"▸\";float: left;margin-right: 0.25em;color: #696969;}#sk-container-id-3 label.sk-toggleable__label-arrow:hover:before {color: black;}#sk-container-id-3 div.sk-estimator:hover label.sk-toggleable__label-arrow:before {color: black;}#sk-container-id-3 div.sk-toggleable__content {max-height: 0;max-width: 0;overflow: hidden;text-align: left;background-color: #f0f8ff;}#sk-container-id-3 div.sk-toggleable__content pre {margin: 0.2em;color: black;border-radius: 0.25em;background-color: #f0f8ff;}#sk-container-id-3 input.sk-toggleable__control:checked~div.sk-toggleable__content {max-height: 200px;max-width: 100%;overflow: auto;}#sk-container-id-3 input.sk-toggleable__control:checked~label.sk-toggleable__label-arrow:before {content: \"▾\";}#sk-container-id-3 div.sk-estimator input.sk-toggleable__control:checked~label.sk-toggleable__label {background-color: #d4ebff;}#sk-container-id-3 div.sk-label input.sk-toggleable__control:checked~label.sk-toggleable__label {background-color: #d4ebff;}#sk-container-id-3 input.sk-hidden--visually {border: 0;clip: rect(1px 1px 1px 1px);clip: rect(1px, 1px, 1px, 1px);height: 1px;margin: -1px;overflow: hidden;padding: 0;position: absolute;width: 1px;}#sk-container-id-3 div.sk-estimator {font-family: monospace;background-color: #f0f8ff;border: 1px dotted black;border-radius: 0.25em;box-sizing: border-box;margin-bottom: 0.5em;}#sk-container-id-3 div.sk-estimator:hover {background-color: #d4ebff;}#sk-container-id-3 div.sk-parallel-item::after {content: \"\";width: 100%;border-bottom: 1px solid gray;flex-grow: 1;}#sk-container-id-3 div.sk-label:hover label.sk-toggleable__label {background-color: #d4ebff;}#sk-container-id-3 div.sk-serial::before {content: \"\";position: absolute;border-left: 1px solid gray;box-sizing: border-box;top: 0;bottom: 0;left: 50%;z-index: 0;}#sk-container-id-3 div.sk-serial {display: flex;flex-direction: column;align-items: center;background-color: white;padding-right: 0.2em;padding-left: 0.2em;position: relative;}#sk-container-id-3 div.sk-item {position: relative;z-index: 1;}#sk-container-id-3 div.sk-parallel {display: flex;align-items: stretch;justify-content: center;background-color: white;position: relative;}#sk-container-id-3 div.sk-item::before, #sk-container-id-3 div.sk-parallel-item::before {content: \"\";position: absolute;border-left: 1px solid gray;box-sizing: border-box;top: 0;bottom: 0;left: 50%;z-index: -1;}#sk-container-id-3 div.sk-parallel-item {display: flex;flex-direction: column;z-index: 1;position: relative;background-color: white;}#sk-container-id-3 div.sk-parallel-item:first-child::after {align-self: flex-end;width: 50%;}#sk-container-id-3 div.sk-parallel-item:last-child::after {align-self: flex-start;width: 50%;}#sk-container-id-3 div.sk-parallel-item:only-child::after {width: 0;}#sk-container-id-3 div.sk-dashed-wrapped {border: 1px dashed gray;margin: 0 0.4em 0.5em 0.4em;box-sizing: border-box;padding-bottom: 0.4em;background-color: white;}#sk-container-id-3 div.sk-label label {font-family: monospace;font-weight: bold;display: inline-block;line-height: 1.2em;}#sk-container-id-3 div.sk-label-container {text-align: center;}#sk-container-id-3 div.sk-container {/* jupyter's `normalize.less` sets `[hidden] { display: none; }` but bootstrap.min.css set `[hidden] { display: none !important; }` so we also need the `!important` here to be able to override the default hidden behavior on the sphinx rendered scikit-learn.org. See: https://github.com/scikit-learn/scikit-learn/issues/21755 */display: inline-block !important;position: relative;}#sk-container-id-3 div.sk-text-repr-fallback {display: none;}</style><div id=\"sk-container-id-3\" class=\"sk-top-container\"><div class=\"sk-text-repr-fallback\"><pre>RandomizedSearchCV(cv=5, estimator=RandomForestRegressor(), n_jobs=-1,\n",
       "                   param_distributions={&#x27;max_depth&#x27;: [3, 4, 5, 6, 7],\n",
       "                                        &#x27;min_samples_leaf&#x27;: [2, 3, 4, 5, 6, 7,\n",
       "                                                             8, 9, 10],\n",
       "                                        &#x27;min_samples_split&#x27;: [2, 3, 4, 5, 6, 7,\n",
       "                                                              8, 9, 10],\n",
       "                                        &#x27;n_estimators&#x27;: [100, 200, 300, 400,\n",
       "                                                         500]},\n",
       "                   verbose=2)</pre><b>In a Jupyter environment, please rerun this cell to show the HTML representation or trust the notebook. <br />On GitHub, the HTML representation is unable to render, please try loading this page with nbviewer.org.</b></div><div class=\"sk-container\" hidden><div class=\"sk-item sk-dashed-wrapped\"><div class=\"sk-label-container\"><div class=\"sk-label sk-toggleable\"><input class=\"sk-toggleable__control sk-hidden--visually\" id=\"sk-estimator-id-3\" type=\"checkbox\" ><label for=\"sk-estimator-id-3\" class=\"sk-toggleable__label sk-toggleable__label-arrow\">RandomizedSearchCV</label><div class=\"sk-toggleable__content\"><pre>RandomizedSearchCV(cv=5, estimator=RandomForestRegressor(), n_jobs=-1,\n",
       "                   param_distributions={&#x27;max_depth&#x27;: [3, 4, 5, 6, 7],\n",
       "                                        &#x27;min_samples_leaf&#x27;: [2, 3, 4, 5, 6, 7,\n",
       "                                                             8, 9, 10],\n",
       "                                        &#x27;min_samples_split&#x27;: [2, 3, 4, 5, 6, 7,\n",
       "                                                              8, 9, 10],\n",
       "                                        &#x27;n_estimators&#x27;: [100, 200, 300, 400,\n",
       "                                                         500]},\n",
       "                   verbose=2)</pre></div></div></div><div class=\"sk-parallel\"><div class=\"sk-parallel-item\"><div class=\"sk-item\"><div class=\"sk-label-container\"><div class=\"sk-label sk-toggleable\"><input class=\"sk-toggleable__control sk-hidden--visually\" id=\"sk-estimator-id-4\" type=\"checkbox\" ><label for=\"sk-estimator-id-4\" class=\"sk-toggleable__label sk-toggleable__label-arrow\">estimator: RandomForestRegressor</label><div class=\"sk-toggleable__content\"><pre>RandomForestRegressor()</pre></div></div></div><div class=\"sk-serial\"><div class=\"sk-item\"><div class=\"sk-estimator sk-toggleable\"><input class=\"sk-toggleable__control sk-hidden--visually\" id=\"sk-estimator-id-5\" type=\"checkbox\" ><label for=\"sk-estimator-id-5\" class=\"sk-toggleable__label sk-toggleable__label-arrow\">RandomForestRegressor</label><div class=\"sk-toggleable__content\"><pre>RandomForestRegressor()</pre></div></div></div></div></div></div></div></div></div></div>"
      ],
      "text/plain": [
       "RandomizedSearchCV(cv=5, estimator=RandomForestRegressor(), n_jobs=-1,\n",
       "                   param_distributions={'max_depth': [3, 4, 5, 6, 7],\n",
       "                                        'min_samples_leaf': [2, 3, 4, 5, 6, 7,\n",
       "                                                             8, 9, 10],\n",
       "                                        'min_samples_split': [2, 3, 4, 5, 6, 7,\n",
       "                                                              8, 9, 10],\n",
       "                                        'n_estimators': [100, 200, 300, 400,\n",
       "                                                         500]},\n",
       "                   verbose=2)"
      ]
     },
     "execution_count": 55,
     "metadata": {},
     "output_type": "execute_result"
    }
   ],
   "source": [
    "from sklearn.model_selection import RandomizedSearchCV\n",
    "\n",
    "\n",
    "params = {'max_depth':[3,4,5,6,7],\n",
    "         \n",
    "         'min_samples_split':[2,3,4,5,6,7,8,9,10],\n",
    "         'min_samples_leaf':[2,3,4,5,6,7,8,9,10]}\n",
    "\n",
    "\n",
    "\n",
    "params['n_estimators'] = [100,200,300,400,500]\n",
    "\n",
    "# instantiate the model\n",
    "random_forest = RandomForestRegressor()\n",
    "\n",
    "# perform the grid search for the best parameters\n",
    "forest_search = RandomizedSearchCV(random_forest,params,n_jobs=-1,\n",
    "                                   cv=5,verbose=2)\n",
    "forest_search.fit(X_train,y_train)\n"
   ]
  },
  {
   "cell_type": "code",
   "execution_count": 63,
   "id": "07299602",
   "metadata": {},
   "outputs": [],
   "source": [
    "best_estimator = forest_search.best_estimator_\n",
    "best_params = forest_search.best_params_\n",
    "best_score = forest_search.best_score_\n"
   ]
  },
  {
   "cell_type": "code",
   "execution_count": 76,
   "id": "99d7f81b",
   "metadata": {
    "scrolled": true
   },
   "outputs": [
    {
     "data": {
      "text/html": [
       "<style>#sk-container-id-8 {color: black;background-color: white;}#sk-container-id-8 pre{padding: 0;}#sk-container-id-8 div.sk-toggleable {background-color: white;}#sk-container-id-8 label.sk-toggleable__label {cursor: pointer;display: block;width: 100%;margin-bottom: 0;padding: 0.3em;box-sizing: border-box;text-align: center;}#sk-container-id-8 label.sk-toggleable__label-arrow:before {content: \"▸\";float: left;margin-right: 0.25em;color: #696969;}#sk-container-id-8 label.sk-toggleable__label-arrow:hover:before {color: black;}#sk-container-id-8 div.sk-estimator:hover label.sk-toggleable__label-arrow:before {color: black;}#sk-container-id-8 div.sk-toggleable__content {max-height: 0;max-width: 0;overflow: hidden;text-align: left;background-color: #f0f8ff;}#sk-container-id-8 div.sk-toggleable__content pre {margin: 0.2em;color: black;border-radius: 0.25em;background-color: #f0f8ff;}#sk-container-id-8 input.sk-toggleable__control:checked~div.sk-toggleable__content {max-height: 200px;max-width: 100%;overflow: auto;}#sk-container-id-8 input.sk-toggleable__control:checked~label.sk-toggleable__label-arrow:before {content: \"▾\";}#sk-container-id-8 div.sk-estimator input.sk-toggleable__control:checked~label.sk-toggleable__label {background-color: #d4ebff;}#sk-container-id-8 div.sk-label input.sk-toggleable__control:checked~label.sk-toggleable__label {background-color: #d4ebff;}#sk-container-id-8 input.sk-hidden--visually {border: 0;clip: rect(1px 1px 1px 1px);clip: rect(1px, 1px, 1px, 1px);height: 1px;margin: -1px;overflow: hidden;padding: 0;position: absolute;width: 1px;}#sk-container-id-8 div.sk-estimator {font-family: monospace;background-color: #f0f8ff;border: 1px dotted black;border-radius: 0.25em;box-sizing: border-box;margin-bottom: 0.5em;}#sk-container-id-8 div.sk-estimator:hover {background-color: #d4ebff;}#sk-container-id-8 div.sk-parallel-item::after {content: \"\";width: 100%;border-bottom: 1px solid gray;flex-grow: 1;}#sk-container-id-8 div.sk-label:hover label.sk-toggleable__label {background-color: #d4ebff;}#sk-container-id-8 div.sk-serial::before {content: \"\";position: absolute;border-left: 1px solid gray;box-sizing: border-box;top: 0;bottom: 0;left: 50%;z-index: 0;}#sk-container-id-8 div.sk-serial {display: flex;flex-direction: column;align-items: center;background-color: white;padding-right: 0.2em;padding-left: 0.2em;position: relative;}#sk-container-id-8 div.sk-item {position: relative;z-index: 1;}#sk-container-id-8 div.sk-parallel {display: flex;align-items: stretch;justify-content: center;background-color: white;position: relative;}#sk-container-id-8 div.sk-item::before, #sk-container-id-8 div.sk-parallel-item::before {content: \"\";position: absolute;border-left: 1px solid gray;box-sizing: border-box;top: 0;bottom: 0;left: 50%;z-index: -1;}#sk-container-id-8 div.sk-parallel-item {display: flex;flex-direction: column;z-index: 1;position: relative;background-color: white;}#sk-container-id-8 div.sk-parallel-item:first-child::after {align-self: flex-end;width: 50%;}#sk-container-id-8 div.sk-parallel-item:last-child::after {align-self: flex-start;width: 50%;}#sk-container-id-8 div.sk-parallel-item:only-child::after {width: 0;}#sk-container-id-8 div.sk-dashed-wrapped {border: 1px dashed gray;margin: 0 0.4em 0.5em 0.4em;box-sizing: border-box;padding-bottom: 0.4em;background-color: white;}#sk-container-id-8 div.sk-label label {font-family: monospace;font-weight: bold;display: inline-block;line-height: 1.2em;}#sk-container-id-8 div.sk-label-container {text-align: center;}#sk-container-id-8 div.sk-container {/* jupyter's `normalize.less` sets `[hidden] { display: none; }` but bootstrap.min.css set `[hidden] { display: none !important; }` so we also need the `!important` here to be able to override the default hidden behavior on the sphinx rendered scikit-learn.org. See: https://github.com/scikit-learn/scikit-learn/issues/21755 */display: inline-block !important;position: relative;}#sk-container-id-8 div.sk-text-repr-fallback {display: none;}</style><div id=\"sk-container-id-8\" class=\"sk-top-container\"><div class=\"sk-text-repr-fallback\"><pre>RandomForestRegressor(max_depth=7, min_samples_leaf=2, min_samples_split=9,\n",
       "                      n_estimators=200)</pre><b>In a Jupyter environment, please rerun this cell to show the HTML representation or trust the notebook. <br />On GitHub, the HTML representation is unable to render, please try loading this page with nbviewer.org.</b></div><div class=\"sk-container\" hidden><div class=\"sk-item\"><div class=\"sk-estimator sk-toggleable\"><input class=\"sk-toggleable__control sk-hidden--visually\" id=\"sk-estimator-id-12\" type=\"checkbox\" checked><label for=\"sk-estimator-id-12\" class=\"sk-toggleable__label sk-toggleable__label-arrow\">RandomForestRegressor</label><div class=\"sk-toggleable__content\"><pre>RandomForestRegressor(max_depth=7, min_samples_leaf=2, min_samples_split=9,\n",
       "                      n_estimators=200)</pre></div></div></div></div></div>"
      ],
      "text/plain": [
       "RandomForestRegressor(max_depth=7, min_samples_leaf=2, min_samples_split=9,\n",
       "                      n_estimators=200)"
      ]
     },
     "execution_count": 76,
     "metadata": {},
     "output_type": "execute_result"
    }
   ],
   "source": [
    "best_estimator"
   ]
  },
  {
   "cell_type": "code",
   "execution_count": 77,
   "id": "54aca0b5",
   "metadata": {},
   "outputs": [
    {
     "data": {
      "text/plain": [
       "{'n_estimators': 200,\n",
       " 'min_samples_split': 9,\n",
       " 'min_samples_leaf': 2,\n",
       " 'max_depth': 7}"
      ]
     },
     "execution_count": 77,
     "metadata": {},
     "output_type": "execute_result"
    }
   ],
   "source": [
    "best_params\n"
   ]
  },
  {
   "cell_type": "code",
   "execution_count": 91,
   "id": "fe0b400f",
   "metadata": {},
   "outputs": [
    {
     "name": "stderr",
     "output_type": "stream",
     "text": [
      "C:\\Users\\DELL\\anaconda3\\lib\\site-packages\\sklearn\\ensemble\\_forest.py:413: FutureWarning: `max_features='auto'` has been deprecated in 1.1 and will be removed in 1.3. To keep the past behaviour, explicitly set `max_features=1.0` or remove this parameter as it is also the default value for RandomForestRegressors and ExtraTreesRegressors.\n",
      "  warn(\n"
     ]
    },
    {
     "name": "stdout",
     "output_type": "stream",
     "text": [
      "Mean Squared Error: 0.004538739789407027\n"
     ]
    }
   ],
   "source": [
    "rf_regressor = RandomForestRegressor(max_depth=7, max_features='auto', min_samples_leaf=2,\n",
    "                      min_samples_split=9)\n",
    "\n",
    "rf_regressor.fit(X_train, y_train)\n",
    "\n",
    "y_pred = rf_regressor.predict(X_test)\n",
    "\n",
    "mse = mean_squared_error(y_test, y_pred)\n",
    "print(\"Mean Squared Error:\", mse)"
   ]
  },
  {
   "cell_type": "code",
   "execution_count": 92,
   "id": "d6294b56",
   "metadata": {},
   "outputs": [
    {
     "name": "stderr",
     "output_type": "stream",
     "text": [
      "C:\\Users\\DELL\\anaconda3\\lib\\site-packages\\sklearn\\ensemble\\_forest.py:413: FutureWarning: `max_features='auto'` has been deprecated in 1.1 and will be removed in 1.3. To keep the past behaviour, explicitly set `max_features=1.0` or remove this parameter as it is also the default value for RandomForestRegressors and ExtraTreesRegressors.\n",
      "  warn(\n",
      "C:\\Users\\DELL\\anaconda3\\lib\\site-packages\\sklearn\\ensemble\\_forest.py:413: FutureWarning: `max_features='auto'` has been deprecated in 1.1 and will be removed in 1.3. To keep the past behaviour, explicitly set `max_features=1.0` or remove this parameter as it is also the default value for RandomForestRegressors and ExtraTreesRegressors.\n",
      "  warn(\n",
      "C:\\Users\\DELL\\anaconda3\\lib\\site-packages\\sklearn\\ensemble\\_forest.py:413: FutureWarning: `max_features='auto'` has been deprecated in 1.1 and will be removed in 1.3. To keep the past behaviour, explicitly set `max_features=1.0` or remove this parameter as it is also the default value for RandomForestRegressors and ExtraTreesRegressors.\n",
      "  warn(\n",
      "C:\\Users\\DELL\\anaconda3\\lib\\site-packages\\sklearn\\ensemble\\_forest.py:413: FutureWarning: `max_features='auto'` has been deprecated in 1.1 and will be removed in 1.3. To keep the past behaviour, explicitly set `max_features=1.0` or remove this parameter as it is also the default value for RandomForestRegressors and ExtraTreesRegressors.\n",
      "  warn(\n",
      "C:\\Users\\DELL\\anaconda3\\lib\\site-packages\\sklearn\\ensemble\\_forest.py:413: FutureWarning: `max_features='auto'` has been deprecated in 1.1 and will be removed in 1.3. To keep the past behaviour, explicitly set `max_features=1.0` or remove this parameter as it is also the default value for RandomForestRegressors and ExtraTreesRegressors.\n",
      "  warn(\n",
      "C:\\Users\\DELL\\anaconda3\\lib\\site-packages\\sklearn\\ensemble\\_forest.py:413: FutureWarning: `max_features='auto'` has been deprecated in 1.1 and will be removed in 1.3. To keep the past behaviour, explicitly set `max_features=1.0` or remove this parameter as it is also the default value for RandomForestRegressors and ExtraTreesRegressors.\n",
      "  warn(\n",
      "C:\\Users\\DELL\\anaconda3\\lib\\site-packages\\sklearn\\ensemble\\_forest.py:413: FutureWarning: `max_features='auto'` has been deprecated in 1.1 and will be removed in 1.3. To keep the past behaviour, explicitly set `max_features=1.0` or remove this parameter as it is also the default value for RandomForestRegressors and ExtraTreesRegressors.\n",
      "  warn(\n",
      "C:\\Users\\DELL\\anaconda3\\lib\\site-packages\\sklearn\\ensemble\\_forest.py:413: FutureWarning: `max_features='auto'` has been deprecated in 1.1 and will be removed in 1.3. To keep the past behaviour, explicitly set `max_features=1.0` or remove this parameter as it is also the default value for RandomForestRegressors and ExtraTreesRegressors.\n",
      "  warn(\n",
      "C:\\Users\\DELL\\anaconda3\\lib\\site-packages\\sklearn\\ensemble\\_forest.py:413: FutureWarning: `max_features='auto'` has been deprecated in 1.1 and will be removed in 1.3. To keep the past behaviour, explicitly set `max_features=1.0` or remove this parameter as it is also the default value for RandomForestRegressors and ExtraTreesRegressors.\n",
      "  warn(\n",
      "C:\\Users\\DELL\\anaconda3\\lib\\site-packages\\sklearn\\ensemble\\_forest.py:413: FutureWarning: `max_features='auto'` has been deprecated in 1.1 and will be removed in 1.3. To keep the past behaviour, explicitly set `max_features=1.0` or remove this parameter as it is also the default value for RandomForestRegressors and ExtraTreesRegressors.\n",
      "  warn(\n",
      "C:\\Users\\DELL\\anaconda3\\lib\\site-packages\\sklearn\\ensemble\\_forest.py:413: FutureWarning: `max_features='auto'` has been deprecated in 1.1 and will be removed in 1.3. To keep the past behaviour, explicitly set `max_features=1.0` or remove this parameter as it is also the default value for RandomForestRegressors and ExtraTreesRegressors.\n",
      "  warn(\n",
      "C:\\Users\\DELL\\anaconda3\\lib\\site-packages\\sklearn\\ensemble\\_forest.py:413: FutureWarning: `max_features='auto'` has been deprecated in 1.1 and will be removed in 1.3. To keep the past behaviour, explicitly set `max_features=1.0` or remove this parameter as it is also the default value for RandomForestRegressors and ExtraTreesRegressors.\n",
      "  warn(\n",
      "C:\\Users\\DELL\\anaconda3\\lib\\site-packages\\sklearn\\ensemble\\_forest.py:413: FutureWarning: `max_features='auto'` has been deprecated in 1.1 and will be removed in 1.3. To keep the past behaviour, explicitly set `max_features=1.0` or remove this parameter as it is also the default value for RandomForestRegressors and ExtraTreesRegressors.\n",
      "  warn(\n",
      "C:\\Users\\DELL\\anaconda3\\lib\\site-packages\\sklearn\\ensemble\\_forest.py:413: FutureWarning: `max_features='auto'` has been deprecated in 1.1 and will be removed in 1.3. To keep the past behaviour, explicitly set `max_features=1.0` or remove this parameter as it is also the default value for RandomForestRegressors and ExtraTreesRegressors.\n",
      "  warn(\n",
      "C:\\Users\\DELL\\anaconda3\\lib\\site-packages\\sklearn\\ensemble\\_forest.py:413: FutureWarning: `max_features='auto'` has been deprecated in 1.1 and will be removed in 1.3. To keep the past behaviour, explicitly set `max_features=1.0` or remove this parameter as it is also the default value for RandomForestRegressors and ExtraTreesRegressors.\n",
      "  warn(\n",
      "C:\\Users\\DELL\\anaconda3\\lib\\site-packages\\sklearn\\ensemble\\_forest.py:413: FutureWarning: `max_features='auto'` has been deprecated in 1.1 and will be removed in 1.3. To keep the past behaviour, explicitly set `max_features=1.0` or remove this parameter as it is also the default value for RandomForestRegressors and ExtraTreesRegressors.\n",
      "  warn(\n",
      "C:\\Users\\DELL\\anaconda3\\lib\\site-packages\\sklearn\\ensemble\\_forest.py:413: FutureWarning: `max_features='auto'` has been deprecated in 1.1 and will be removed in 1.3. To keep the past behaviour, explicitly set `max_features=1.0` or remove this parameter as it is also the default value for RandomForestRegressors and ExtraTreesRegressors.\n",
      "  warn(\n",
      "C:\\Users\\DELL\\anaconda3\\lib\\site-packages\\sklearn\\ensemble\\_forest.py:413: FutureWarning: `max_features='auto'` has been deprecated in 1.1 and will be removed in 1.3. To keep the past behaviour, explicitly set `max_features=1.0` or remove this parameter as it is also the default value for RandomForestRegressors and ExtraTreesRegressors.\n",
      "  warn(\n",
      "C:\\Users\\DELL\\anaconda3\\lib\\site-packages\\sklearn\\ensemble\\_forest.py:413: FutureWarning: `max_features='auto'` has been deprecated in 1.1 and will be removed in 1.3. To keep the past behaviour, explicitly set `max_features=1.0` or remove this parameter as it is also the default value for RandomForestRegressors and ExtraTreesRegressors.\n",
      "  warn(\n",
      "C:\\Users\\DELL\\anaconda3\\lib\\site-packages\\sklearn\\ensemble\\_forest.py:413: FutureWarning: `max_features='auto'` has been deprecated in 1.1 and will be removed in 1.3. To keep the past behaviour, explicitly set `max_features=1.0` or remove this parameter as it is also the default value for RandomForestRegressors and ExtraTreesRegressors.\n",
      "  warn(\n",
      "C:\\Users\\DELL\\anaconda3\\lib\\site-packages\\sklearn\\ensemble\\_forest.py:413: FutureWarning: `max_features='auto'` has been deprecated in 1.1 and will be removed in 1.3. To keep the past behaviour, explicitly set `max_features=1.0` or remove this parameter as it is also the default value for RandomForestRegressors and ExtraTreesRegressors.\n",
      "  warn(\n",
      "C:\\Users\\DELL\\anaconda3\\lib\\site-packages\\sklearn\\ensemble\\_forest.py:413: FutureWarning: `max_features='auto'` has been deprecated in 1.1 and will be removed in 1.3. To keep the past behaviour, explicitly set `max_features=1.0` or remove this parameter as it is also the default value for RandomForestRegressors and ExtraTreesRegressors.\n",
      "  warn(\n",
      "C:\\Users\\DELL\\anaconda3\\lib\\site-packages\\sklearn\\ensemble\\_forest.py:413: FutureWarning: `max_features='auto'` has been deprecated in 1.1 and will be removed in 1.3. To keep the past behaviour, explicitly set `max_features=1.0` or remove this parameter as it is also the default value for RandomForestRegressors and ExtraTreesRegressors.\n",
      "  warn(\n",
      "C:\\Users\\DELL\\anaconda3\\lib\\site-packages\\sklearn\\ensemble\\_forest.py:413: FutureWarning: `max_features='auto'` has been deprecated in 1.1 and will be removed in 1.3. To keep the past behaviour, explicitly set `max_features=1.0` or remove this parameter as it is also the default value for RandomForestRegressors and ExtraTreesRegressors.\n",
      "  warn(\n"
     ]
    },
    {
     "name": "stderr",
     "output_type": "stream",
     "text": [
      "C:\\Users\\DELL\\anaconda3\\lib\\site-packages\\sklearn\\ensemble\\_forest.py:413: FutureWarning: `max_features='auto'` has been deprecated in 1.1 and will be removed in 1.3. To keep the past behaviour, explicitly set `max_features=1.0` or remove this parameter as it is also the default value for RandomForestRegressors and ExtraTreesRegressors.\n",
      "  warn(\n",
      "C:\\Users\\DELL\\anaconda3\\lib\\site-packages\\sklearn\\ensemble\\_forest.py:413: FutureWarning: `max_features='auto'` has been deprecated in 1.1 and will be removed in 1.3. To keep the past behaviour, explicitly set `max_features=1.0` or remove this parameter as it is also the default value for RandomForestRegressors and ExtraTreesRegressors.\n",
      "  warn(\n",
      "C:\\Users\\DELL\\anaconda3\\lib\\site-packages\\sklearn\\ensemble\\_forest.py:413: FutureWarning: `max_features='auto'` has been deprecated in 1.1 and will be removed in 1.3. To keep the past behaviour, explicitly set `max_features=1.0` or remove this parameter as it is also the default value for RandomForestRegressors and ExtraTreesRegressors.\n",
      "  warn(\n",
      "C:\\Users\\DELL\\anaconda3\\lib\\site-packages\\sklearn\\ensemble\\_forest.py:413: FutureWarning: `max_features='auto'` has been deprecated in 1.1 and will be removed in 1.3. To keep the past behaviour, explicitly set `max_features=1.0` or remove this parameter as it is also the default value for RandomForestRegressors and ExtraTreesRegressors.\n",
      "  warn(\n",
      "C:\\Users\\DELL\\anaconda3\\lib\\site-packages\\sklearn\\ensemble\\_forest.py:413: FutureWarning: `max_features='auto'` has been deprecated in 1.1 and will be removed in 1.3. To keep the past behaviour, explicitly set `max_features=1.0` or remove this parameter as it is also the default value for RandomForestRegressors and ExtraTreesRegressors.\n",
      "  warn(\n",
      "C:\\Users\\DELL\\anaconda3\\lib\\site-packages\\sklearn\\ensemble\\_forest.py:413: FutureWarning: `max_features='auto'` has been deprecated in 1.1 and will be removed in 1.3. To keep the past behaviour, explicitly set `max_features=1.0` or remove this parameter as it is also the default value for RandomForestRegressors and ExtraTreesRegressors.\n",
      "  warn(\n",
      "C:\\Users\\DELL\\anaconda3\\lib\\site-packages\\sklearn\\ensemble\\_forest.py:413: FutureWarning: `max_features='auto'` has been deprecated in 1.1 and will be removed in 1.3. To keep the past behaviour, explicitly set `max_features=1.0` or remove this parameter as it is also the default value for RandomForestRegressors and ExtraTreesRegressors.\n",
      "  warn(\n"
     ]
    }
   ],
   "source": [
    "param_grid = {\n",
    "    'n_estimators': [50, 100, 200, 300, 400,500]  # Add more values as per your requirement\n",
    "}\n",
    "grid_search = GridSearchCV(estimator=rf_regressor, param_grid=param_grid, cv=5, scoring='neg_mean_squared_error')\n",
    "grid_search.fit(X_train, y_train)\n",
    "\n",
    "best_rf_regressor = grid_search.best_estimator_\n",
    "\n"
   ]
  },
  {
   "cell_type": "code",
   "execution_count": 93,
   "id": "9ffa3d65",
   "metadata": {},
   "outputs": [
    {
     "data": {
      "text/html": [
       "<style>#sk-container-id-11 {color: black;background-color: white;}#sk-container-id-11 pre{padding: 0;}#sk-container-id-11 div.sk-toggleable {background-color: white;}#sk-container-id-11 label.sk-toggleable__label {cursor: pointer;display: block;width: 100%;margin-bottom: 0;padding: 0.3em;box-sizing: border-box;text-align: center;}#sk-container-id-11 label.sk-toggleable__label-arrow:before {content: \"▸\";float: left;margin-right: 0.25em;color: #696969;}#sk-container-id-11 label.sk-toggleable__label-arrow:hover:before {color: black;}#sk-container-id-11 div.sk-estimator:hover label.sk-toggleable__label-arrow:before {color: black;}#sk-container-id-11 div.sk-toggleable__content {max-height: 0;max-width: 0;overflow: hidden;text-align: left;background-color: #f0f8ff;}#sk-container-id-11 div.sk-toggleable__content pre {margin: 0.2em;color: black;border-radius: 0.25em;background-color: #f0f8ff;}#sk-container-id-11 input.sk-toggleable__control:checked~div.sk-toggleable__content {max-height: 200px;max-width: 100%;overflow: auto;}#sk-container-id-11 input.sk-toggleable__control:checked~label.sk-toggleable__label-arrow:before {content: \"▾\";}#sk-container-id-11 div.sk-estimator input.sk-toggleable__control:checked~label.sk-toggleable__label {background-color: #d4ebff;}#sk-container-id-11 div.sk-label input.sk-toggleable__control:checked~label.sk-toggleable__label {background-color: #d4ebff;}#sk-container-id-11 input.sk-hidden--visually {border: 0;clip: rect(1px 1px 1px 1px);clip: rect(1px, 1px, 1px, 1px);height: 1px;margin: -1px;overflow: hidden;padding: 0;position: absolute;width: 1px;}#sk-container-id-11 div.sk-estimator {font-family: monospace;background-color: #f0f8ff;border: 1px dotted black;border-radius: 0.25em;box-sizing: border-box;margin-bottom: 0.5em;}#sk-container-id-11 div.sk-estimator:hover {background-color: #d4ebff;}#sk-container-id-11 div.sk-parallel-item::after {content: \"\";width: 100%;border-bottom: 1px solid gray;flex-grow: 1;}#sk-container-id-11 div.sk-label:hover label.sk-toggleable__label {background-color: #d4ebff;}#sk-container-id-11 div.sk-serial::before {content: \"\";position: absolute;border-left: 1px solid gray;box-sizing: border-box;top: 0;bottom: 0;left: 50%;z-index: 0;}#sk-container-id-11 div.sk-serial {display: flex;flex-direction: column;align-items: center;background-color: white;padding-right: 0.2em;padding-left: 0.2em;position: relative;}#sk-container-id-11 div.sk-item {position: relative;z-index: 1;}#sk-container-id-11 div.sk-parallel {display: flex;align-items: stretch;justify-content: center;background-color: white;position: relative;}#sk-container-id-11 div.sk-item::before, #sk-container-id-11 div.sk-parallel-item::before {content: \"\";position: absolute;border-left: 1px solid gray;box-sizing: border-box;top: 0;bottom: 0;left: 50%;z-index: -1;}#sk-container-id-11 div.sk-parallel-item {display: flex;flex-direction: column;z-index: 1;position: relative;background-color: white;}#sk-container-id-11 div.sk-parallel-item:first-child::after {align-self: flex-end;width: 50%;}#sk-container-id-11 div.sk-parallel-item:last-child::after {align-self: flex-start;width: 50%;}#sk-container-id-11 div.sk-parallel-item:only-child::after {width: 0;}#sk-container-id-11 div.sk-dashed-wrapped {border: 1px dashed gray;margin: 0 0.4em 0.5em 0.4em;box-sizing: border-box;padding-bottom: 0.4em;background-color: white;}#sk-container-id-11 div.sk-label label {font-family: monospace;font-weight: bold;display: inline-block;line-height: 1.2em;}#sk-container-id-11 div.sk-label-container {text-align: center;}#sk-container-id-11 div.sk-container {/* jupyter's `normalize.less` sets `[hidden] { display: none; }` but bootstrap.min.css set `[hidden] { display: none !important; }` so we also need the `!important` here to be able to override the default hidden behavior on the sphinx rendered scikit-learn.org. See: https://github.com/scikit-learn/scikit-learn/issues/21755 */display: inline-block !important;position: relative;}#sk-container-id-11 div.sk-text-repr-fallback {display: none;}</style><div id=\"sk-container-id-11\" class=\"sk-top-container\"><div class=\"sk-text-repr-fallback\"><pre>RandomForestRegressor(max_depth=7, max_features=&#x27;auto&#x27;, min_samples_leaf=2,\n",
       "                      min_samples_split=9)</pre><b>In a Jupyter environment, please rerun this cell to show the HTML representation or trust the notebook. <br />On GitHub, the HTML representation is unable to render, please try loading this page with nbviewer.org.</b></div><div class=\"sk-container\" hidden><div class=\"sk-item\"><div class=\"sk-estimator sk-toggleable\"><input class=\"sk-toggleable__control sk-hidden--visually\" id=\"sk-estimator-id-15\" type=\"checkbox\" checked><label for=\"sk-estimator-id-15\" class=\"sk-toggleable__label sk-toggleable__label-arrow\">RandomForestRegressor</label><div class=\"sk-toggleable__content\"><pre>RandomForestRegressor(max_depth=7, max_features=&#x27;auto&#x27;, min_samples_leaf=2,\n",
       "                      min_samples_split=9)</pre></div></div></div></div></div>"
      ],
      "text/plain": [
       "RandomForestRegressor(max_depth=7, max_features='auto', min_samples_leaf=2,\n",
       "                      min_samples_split=9)"
      ]
     },
     "execution_count": 93,
     "metadata": {},
     "output_type": "execute_result"
    }
   ],
   "source": [
    "best_rf_regressor"
   ]
  },
  {
   "cell_type": "code",
   "execution_count": 89,
   "id": "141e012a",
   "metadata": {},
   "outputs": [
    {
     "name": "stdout",
     "output_type": "stream",
     "text": [
      "Mean Squared Error: 0.0044757057997133745\n"
     ]
    }
   ],
   "source": [
    "\n",
    "y_pred = best_rf_regressor.predict(X_test)\n",
    "\n",
    "mse = mean_squared_error(y_test, y_pred)\n",
    "print(\"Mean Squared Error:\", mse)"
   ]
  },
  {
   "cell_type": "code",
   "execution_count": 94,
   "id": "ae77c547",
   "metadata": {},
   "outputs": [
    {
     "data": {
      "text/plain": [
       "0.9971274413295088"
      ]
     },
     "execution_count": 94,
     "metadata": {},
     "output_type": "execute_result"
    }
   ],
   "source": [
    "best_rf_regressor.score(X_test,y_pred)"
   ]
  },
  {
   "cell_type": "code",
   "execution_count": 95,
   "id": "bfb346ff",
   "metadata": {},
   "outputs": [
    {
     "name": "stdout",
     "output_type": "stream",
     "text": [
      "Mean Squared Error: 0.002786267286666325\n",
      "Score:  0.9091155188509332\n",
      "Best Parameters:  {'learning_rate': 0.05, 'max_depth': 3, 'n_estimators': 100}\n",
      "Best Score:  -0.009628273092886093\n"
     ]
    }
   ],
   "source": [
    "from sklearn.ensemble import GradientBoostingRegressor\n",
    "param_grid = {\n",
    "    'n_estimators': [100, 200, 300],  # Number of weak models\n",
    "    'learning_rate': [0.1, 0.05, 0.01],  \n",
    "    'max_depth': [3, 4, 5]  \n",
    "}\n",
    "gbr = GradientBoostingRegressor()\n",
    "grid_search = GridSearchCV(gbr, param_grid, cv=5, scoring='neg_mean_squared_error')\n",
    "grid_search.fit(X, y)\n",
    "best_gb_regressor = grid_search.best_estimator_\n",
    "y_gbpred = best_gb_regressor.predict(X_test)\n",
    "mse = mean_squared_error(y_test, y_gbpred)\n",
    "print(\"Mean Squared Error:\", mse)\n",
    "print(\"Score: \", best_gb_regressor.score(X_test,y_test))\n",
    "print(\"Best Parameters: \", grid_search.best_params_)\n",
    "print(\"Best Score: \", grid_search.best_score_)"
   ]
  },
  {
   "cell_type": "code",
   "execution_count": 96,
   "id": "2b20a1c2",
   "metadata": {},
   "outputs": [
    {
     "name": "stdout",
     "output_type": "stream",
     "text": [
      "Mean Squared Error:  0.0046858437900682845\n"
     ]
    }
   ],
   "source": [
    "gbr = GradientBoostingRegressor(n_estimators=100, learning_rate=0.05, max_depth=3)\n",
    "gbr.fit(X_train, y_train)\n",
    "\n",
    "y_pred = gbr.predict(X_test)\n",
    "\n",
    "# Evaluate the model using mean squared error\n",
    "mse = mean_squared_error(y_test, y_pred)\n",
    "print(\"Mean Squared Error: \", mse)"
   ]
  },
  {
   "cell_type": "code",
   "execution_count": 97,
   "id": "6dcc0ce2",
   "metadata": {},
   "outputs": [
    {
     "data": {
      "text/plain": [
       "0.8471537588500807"
      ]
     },
     "execution_count": 97,
     "metadata": {},
     "output_type": "execute_result"
    }
   ],
   "source": [
    "gbr.score(X_test,y_test)"
   ]
  },
  {
   "cell_type": "code",
   "execution_count": null,
   "id": "8999094e",
   "metadata": {},
   "outputs": [],
   "source": []
  },
  {
   "cell_type": "code",
   "execution_count": 98,
   "id": "a1dec1f0",
   "metadata": {},
   "outputs": [],
   "source": [
    "from sklearn.ensemble import AdaBoostRegressor"
   ]
  },
  {
   "cell_type": "code",
   "execution_count": 99,
   "id": "e9e94754",
   "metadata": {},
   "outputs": [],
   "source": [
    "a = AdaBoostRegressor()"
   ]
  },
  {
   "cell_type": "code",
   "execution_count": 100,
   "id": "8a258674",
   "metadata": {},
   "outputs": [
    {
     "name": "stdout",
     "output_type": "stream",
     "text": [
      "Mean Squared Error:  0.007822089388203201\n",
      "Score:  0.7448534320628497\n"
     ]
    }
   ],
   "source": [
    "a.fit(X_train,y_train)\n",
    "y_pre=a.predict(X_test)\n",
    "mse = mean_squared_error(y_test, y_pre)\n",
    "print(\"Mean Squared Error: \", mse)\n",
    "print(\"Score: \", a.score(X_test,y_test))"
   ]
  },
  {
   "cell_type": "code",
   "execution_count": 101,
   "id": "e41e9a4e",
   "metadata": {},
   "outputs": [
    {
     "name": "stdout",
     "output_type": "stream",
     "text": [
      "Score:  0.7973969722325915\n"
     ]
    }
   ],
   "source": [
    "param_grid = {\n",
    "    'n_estimators': [50, 100, 200],\n",
    "    'learning_rate': [0.1, 0.5, 1.0],\n",
    "    'loss': ['linear', 'square', 'exponential']\n",
    "}\n",
    "\n",
    "# Perform grid search\n",
    "grid_search = GridSearchCV(a, param_grid, cv=5)\n",
    "grid_search.fit(X_train, y_train)\n",
    "\n",
    "# Get the best parameters and score\n",
    "best_params = grid_search.best_params_\n",
    "best_score = grid_search.best_score_\n",
    "\n",
    "# Use the best model for prediction\n",
    "best_model = grid_search.best_estimator_\n",
    "predictions = best_model.predict(X_test)\n",
    "\n",
    "# Evaluate the model\n",
    "#score = best_model.score(X_test, y_test)\n",
    "print(\"Score: \", best_model.score(X_test,y_test))"
   ]
  },
  {
   "cell_type": "code",
   "execution_count": 102,
   "id": "020ed48c",
   "metadata": {},
   "outputs": [],
   "source": [
    "#Gradient booster with gridsearchcv gave maximum score of approximately 0.91"
   ]
  },
  {
   "cell_type": "code",
   "execution_count": 103,
   "id": "e65db5fe",
   "metadata": {},
   "outputs": [],
   "source": [
    "predicted = {'y_test','y_gbpred'}\n",
    "df1 = pd.DataFrame()\n",
    "df1['Actual'] = y_test\n",
    "df1['predicted'] = y_gbpred\n"
   ]
  },
  {
   "cell_type": "code",
   "execution_count": 104,
   "id": "79a166e4",
   "metadata": {},
   "outputs": [
    {
     "data": {
      "image/png": "[encoded data removed]",
      "text/plain": [
       "<Figure size 1000x600 with 1 Axes>"
      ]
     },
     "metadata": {},
     "output_type": "display_data"
    }
   ],
   "source": [
    "plt.figure(figsize=(10, 6))\n",
    "x_ax = range(len(y_test))\n",
    "plt.plot(x_ax, y_test, label=\"original\")\n",
    "plt.plot(x_ax, y_gbpred, label=\"predicted\")\n",
    "plt.title(\"pm10 test and predicted data\")\n",
    "plt.legend()\n",
    "plt.show()\n"
   ]
  },
  {
   "cell_type": "code",
   "execution_count": 105,
   "id": "9593c95b",
   "metadata": {},
   "outputs": [
    {
     "data": {
      "text/html": [
       "<div>\n",
       "<style scoped>\n",
       "    .dataframe tbody tr th:only-of-type {\n",
       "        vertical-align: middle;\n",
       "    }\n",
       "\n",
       "    .dataframe tbody tr th {\n",
       "        vertical-align: top;\n",
       "    }\n",
       "\n",
       "    .dataframe thead th {\n",
       "        text-align: right;\n",
       "    }\n",
       "</style>\n",
       "<table border=\"1\" class=\"dataframe\">\n",
       "  <thead>\n",
       "    <tr style=\"text-align: right;\">\n",
       "      <th></th>\n",
       "      <th>PM10</th>\n",
       "      <th>NO2</th>\n",
       "      <th>SO2</th>\n",
       "      <th>CO</th>\n",
       "      <th>Ozone</th>\n",
       "      <th>RH</th>\n",
       "      <th>WS</th>\n",
       "      <th>WD</th>\n",
       "      <th>SR</th>\n",
       "    </tr>\n",
       "  </thead>\n",
       "  <tbody>\n",
       "    <tr>\n",
       "      <th>0</th>\n",
       "      <td>52.51</td>\n",
       "      <td>13.85</td>\n",
       "      <td>2.16</td>\n",
       "      <td>0.24</td>\n",
       "      <td>14.55</td>\n",
       "      <td>81.23</td>\n",
       "      <td>0.83</td>\n",
       "      <td>86.20</td>\n",
       "      <td>98.37</td>\n",
       "    </tr>\n",
       "    <tr>\n",
       "      <th>1</th>\n",
       "      <td>49.07</td>\n",
       "      <td>15.81</td>\n",
       "      <td>2.16</td>\n",
       "      <td>0.24</td>\n",
       "      <td>10.04</td>\n",
       "      <td>75.55</td>\n",
       "      <td>0.63</td>\n",
       "      <td>169.02</td>\n",
       "      <td>154.07</td>\n",
       "    </tr>\n",
       "    <tr>\n",
       "      <th>2</th>\n",
       "      <td>46.35</td>\n",
       "      <td>11.59</td>\n",
       "      <td>2.31</td>\n",
       "      <td>0.17</td>\n",
       "      <td>4.55</td>\n",
       "      <td>72.46</td>\n",
       "      <td>0.46</td>\n",
       "      <td>206.99</td>\n",
       "      <td>153.92</td>\n",
       "    </tr>\n",
       "    <tr>\n",
       "      <th>3</th>\n",
       "      <td>75.40</td>\n",
       "      <td>21.96</td>\n",
       "      <td>1.84</td>\n",
       "      <td>0.27</td>\n",
       "      <td>10.43</td>\n",
       "      <td>72.96</td>\n",
       "      <td>0.67</td>\n",
       "      <td>202.61</td>\n",
       "      <td>144.84</td>\n",
       "    </tr>\n",
       "    <tr>\n",
       "      <th>4</th>\n",
       "      <td>75.97</td>\n",
       "      <td>20.46</td>\n",
       "      <td>2.03</td>\n",
       "      <td>0.23</td>\n",
       "      <td>12.98</td>\n",
       "      <td>70.21</td>\n",
       "      <td>0.98</td>\n",
       "      <td>210.27</td>\n",
       "      <td>175.71</td>\n",
       "    </tr>\n",
       "  </tbody>\n",
       "</table>\n",
       "</div>"
      ],
      "text/plain": [
       "    PM10    NO2   SO2    CO  Ozone     RH    WS      WD      SR\n",
       "0  52.51  13.85  2.16  0.24  14.55  81.23  0.83   86.20   98.37\n",
       "1  49.07  15.81  2.16  0.24  10.04  75.55  0.63  169.02  154.07\n",
       "2  46.35  11.59  2.31  0.17   4.55  72.46  0.46  206.99  153.92\n",
       "3  75.40  21.96  1.84  0.27  10.43  72.96  0.67  202.61  144.84\n",
       "4  75.97  20.46  2.03  0.23  12.98  70.21  0.98  210.27  175.71"
      ]
     },
     "execution_count": 105,
     "metadata": {},
     "output_type": "execute_result"
    }
   ],
   "source": [
    "#  the scaled dataframe named 'scaled_df' and the scaler object named 'scaler'\n",
    "scaled_data = scaled_df.values  # Converting the scaled dataframe to a NumPy array\n",
    "rescaled_data = scaler.inverse_transform(scaled_data)  # Rescale the data back\n",
    "\n",
    "# Create a new dataframe with the rescaled data\n",
    "rescaled_df = pd.DataFrame(rescaled_data, columns=names)\n",
    "rescaled_df.head()\n"
   ]
  },
  {
   "cell_type": "code",
   "execution_count": 111,
   "id": "a1b15c8c",
   "metadata": {},
   "outputs": [
    {
     "data": {
      "text/plain": [
       "<bound method NDFrame.head of 869     0.356051\n",
       "1042    0.199365\n",
       "254     0.373680\n",
       "1067    0.196264\n",
       "1192    0.241873\n",
       "          ...   \n",
       "1130    0.092982\n",
       "1294    0.351085\n",
       "860     0.250868\n",
       "1459    0.070350\n",
       "1126    0.125323\n",
       "Name: PM10, Length: 1170, dtype: float64>"
      ]
     },
     "execution_count": 111,
     "metadata": {},
     "output_type": "execute_result"
    }
   ],
   "source": [
    "y_train.head"
   ]
  },
  {
   "cell_type": "code",
   "execution_count": 118,
   "id": "4002c71b",
   "metadata": {},
   "outputs": [
    {
     "ename": "ValueError",
     "evalue": "non-broadcastable output operand with shape (293,1) doesn't match the broadcast shape (293,9)",
     "output_type": "error",
     "traceback": [
      "\u001b[1;31m---------------------------------------------------------------------------\u001b[0m",
      "\u001b[1;31mValueError\u001b[0m                                Traceback (most recent call last)",
      "Cell \u001b[1;32mIn[118], line 15\u001b[0m\n\u001b[0;32m     13\u001b[0m scaler\u001b[38;5;241m.\u001b[39mfit(cpcb)\n\u001b[0;32m     14\u001b[0m y_gbpred_reshaped \u001b[38;5;241m=\u001b[39m np\u001b[38;5;241m.\u001b[39mreshape(y_gbpred, (\u001b[38;5;241m-\u001b[39m\u001b[38;5;241m1\u001b[39m, \u001b[38;5;241m1\u001b[39m))\n\u001b[1;32m---> 15\u001b[0m y_rescaled_predictions \u001b[38;5;241m=\u001b[39m \u001b[43mscaler\u001b[49m\u001b[38;5;241;43m.\u001b[39;49m\u001b[43minverse_transform\u001b[49m\u001b[43m(\u001b[49m\u001b[43my_gbpred_reshaped\u001b[49m\u001b[43m)\u001b[49m\n\u001b[0;32m     17\u001b[0m mse \u001b[38;5;241m=\u001b[39m mean_squared_error(y_test, y_rescaled_predictions)\n\u001b[0;32m     18\u001b[0m \u001b[38;5;28mprint\u001b[39m(\u001b[38;5;124m\"\u001b[39m\u001b[38;5;124mMean Squared Error:\u001b[39m\u001b[38;5;124m\"\u001b[39m, mse)\n",
      "File \u001b[1;32m~\\anaconda3\\lib\\site-packages\\sklearn\\preprocessing\\_data.py:541\u001b[0m, in \u001b[0;36mMinMaxScaler.inverse_transform\u001b[1;34m(self, X)\u001b[0m\n\u001b[0;32m    535\u001b[0m check_is_fitted(\u001b[38;5;28mself\u001b[39m)\n\u001b[0;32m    537\u001b[0m X \u001b[38;5;241m=\u001b[39m check_array(\n\u001b[0;32m    538\u001b[0m     X, copy\u001b[38;5;241m=\u001b[39m\u001b[38;5;28mself\u001b[39m\u001b[38;5;241m.\u001b[39mcopy, dtype\u001b[38;5;241m=\u001b[39mFLOAT_DTYPES, force_all_finite\u001b[38;5;241m=\u001b[39m\u001b[38;5;124m\"\u001b[39m\u001b[38;5;124mallow-nan\u001b[39m\u001b[38;5;124m\"\u001b[39m\n\u001b[0;32m    539\u001b[0m )\n\u001b[1;32m--> 541\u001b[0m X \u001b[38;5;241m-\u001b[39m\u001b[38;5;241m=\u001b[39m \u001b[38;5;28mself\u001b[39m\u001b[38;5;241m.\u001b[39mmin_\n\u001b[0;32m    542\u001b[0m X \u001b[38;5;241m/\u001b[39m\u001b[38;5;241m=\u001b[39m \u001b[38;5;28mself\u001b[39m\u001b[38;5;241m.\u001b[39mscale_\n\u001b[0;32m    543\u001b[0m \u001b[38;5;28;01mreturn\u001b[39;00m X\n",
      "\u001b[1;31mValueError\u001b[0m: non-broadcastable output operand with shape (293,1) doesn't match the broadcast shape (293,9)"
     ]
    }
   ],
   "source": [
    "from sklearn.ensemble import GradientBoostingRegressor\n",
    "param_grid = {\n",
    "    'n_estimators': [100, 200, 300],  # Number of weak models\n",
    "    'learning_rate': [0.1, 0.05, 0.01],  \n",
    "    'max_depth': [3, 4, 5]  \n",
    "}\n",
    "gbr = GradientBoostingRegressor()\n",
    "grid_search = GridSearchCV(gbr, param_grid, cv=5, scoring='neg_mean_squared_error')\n",
    "grid_search.fit(X, y)\n",
    "best_gb_regressor = grid_search.best_estimator_\n",
    "y_gbpred = best_gb_regressor.predict(X_test)\n",
    "scaler = MinMaxScaler()\n",
    "scaler.fit(cpcb)\n",
    "y_gbpred_reshaped = np.reshape(y_gbpred, (-1, 1))\n",
    "y_rescaled_predictions = scaler.inverse_transform(y_gbpred_reshaped)\n",
    "\n",
    "mse = mean_squared_error(y_test, y_rescaled_predictions)\n",
    "print(\"Mean Squared Error:\", mse)\n",
    "print(\"Score: \", best_gb_regressor.score(X_test,y_test))\n",
    "print(\"Best Parameters: \", grid_search.best_params_)\n",
    "print(\"Best Score: \", grid_search.best_score_)"
   ]
  },
  {
   "cell_type": "code",
   "execution_count": null,
   "id": "2f7de013",
   "metadata": {},
   "outputs": [],
   "source": []
  }
 ],
 "metadata": {
  "kernelspec": {
   "display_name": "Python 3 (ipykernel)",
   "language": "python",
   "name": "python3"
  },
  "language_info": {
   "codemirror_mode": {
    "name": "ipython",
    "version": 3
   },
   "file_extension": ".py",
   "mimetype": "text/x-python",
   "name": "python",
   "nbconvert_exporter": "python",
   "pygments_lexer": "ipython3",
   "version": "3.9.12"
  }
 },
 "nbformat": 4,
 "nbformat_minor": 5
}
